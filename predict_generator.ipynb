{
 "cells": [
  {
   "cell_type": "markdown",
   "metadata": {},
   "source": [
    "# Predict generator"
   ]
  },
  {
   "cell_type": "code",
   "execution_count": 10,
   "metadata": {},
   "outputs": [
    {
     "name": "stdout",
     "output_type": "stream",
     "text": [
      "/home/jupyter/tfx-sandbox/prediction_robot\n"
     ]
    }
   ],
   "source": [
    "%cd prediction_robot"
   ]
  },
  {
   "cell_type": "code",
   "execution_count": 26,
   "metadata": {},
   "outputs": [
    {
     "name": "stdout",
     "output_type": "stream",
     "text": [
      "NAME          STATUS  TRIGGER        REGION\n",
      "hello_pubsub  ACTIVE  Event Trigger  us-central1\n"
     ]
    }
   ],
   "source": [
    "!gcloud functions list"
   ]
  },
  {
   "cell_type": "code",
   "execution_count": 21,
   "metadata": {},
   "outputs": [
    {
     "name": "stdout",
     "output_type": "stream",
     "text": [
      "---\n",
      "name: projects/mlops-dev-env/topics/container-analysis-notes-v1\n",
      "---\n",
      "name: projects/mlops-dev-env/topics/container-analysis-notes-v1beta1\n",
      "---\n",
      "name: projects/mlops-dev-env/topics/container-analysis-occurrences-v1\n",
      "---\n",
      "name: projects/mlops-dev-env/topics/container-analysis-occurrences-v1beta1\n",
      "---\n",
      "name: projects/mlops-dev-env/topics/cloud-builds\n",
      "---\n",
      "name: projects/mlops-dev-env/topics/messages\n",
      "---\n",
      "name: projects/mlops-dev-env/topics/predict_trigger\n",
      "---\n",
      "name: projects/mlops-dev-env/topics/test_topic\n"
     ]
    }
   ],
   "source": [
    "!gcloud pubsub topics list"
   ]
  },
  {
   "cell_type": "code",
   "execution_count": 88,
   "metadata": {},
   "outputs": [],
   "source": [
    "FUNCTION = 'run_predictions'\n",
    "TOPIC = 'predict_trigger'"
   ]
  },
  {
   "cell_type": "code",
   "execution_count": null,
   "metadata": {},
   "outputs": [
    {
     "name": "stdout",
     "output_type": "stream",
     "text": [
      "\u001b[1;33mWARNING:\u001b[0m Function created with limited-access IAM policy. To enable unauthorized access consider \"gcloud alpha functions add-iam-policy-binding run_predictions --member=allUsers --role=roles/cloudfunctions.invoker\"\n",
      "Deploying function (may take a while - up to 2 minutes)...⠶                    "
     ]
    }
   ],
   "source": [
    "!gcloud functions deploy {FUNCTION} --runtime python37 --trigger-topic {TOPIC}"
   ]
  },
  {
   "cell_type": "code",
   "execution_count": 84,
   "metadata": {},
   "outputs": [
    {
     "data": {
      "text/plain": [
       "{'table': 'covertype_dataset.covertype',\n",
       " 'num_rows': 3,\n",
       " 'service_name': 'projects/mlops-dev-env/models/covertype_classifier_tf/versions/v2',\n",
       " 'signature_name': 'serving_default',\n",
       " 'model_output_key': 'probabilities'}"
      ]
     },
     "execution_count": 84,
     "metadata": {},
     "output_type": "execute_result"
    }
   ],
   "source": [
    "import json\n",
    "\n",
    "params = {\n",
    "        'table': 'covertype_dataset.covertype',\n",
    "        'num_rows': 3,\n",
    "        'service_name': 'projects/mlops-dev-env/models/covertype_classifier_tf/versions/v2',\n",
    "        'signature_name': 'serving_default',\n",
    "        'model_output_key': 'probabilities'\n",
    "    }\n",
    "\n",
    "MESSAGE = json.dumps(params)\n",
    "MESSAGE\n",
    "json.loads(MESSAGE)"
   ]
  },
  {
   "cell_type": "code",
   "execution_count": 85,
   "metadata": {},
   "outputs": [
    {
     "name": "stdout",
     "output_type": "stream",
     "text": [
      "messageIds:\n",
      "- '1176595614332080'\n"
     ]
    }
   ],
   "source": [
    "!gcloud pubsub topics publish {TOPIC} --message '{MESSAGE}'"
   ]
  },
  {
   "cell_type": "code",
   "execution_count": 87,
   "metadata": {},
   "outputs": [
    {
     "name": "stdout",
     "output_type": "stream",
     "text": [
      "LEVEL  NAME          EXECUTION_ID  TIME_UTC                 LOG\n",
      "I      hello_pubsub  04g9q7jaxaob  2020-05-09 02:07:45.554  {'f1': 10, 'f2': 'aaa'}\n",
      "D      hello_pubsub  04g9q7jaxaob  2020-05-09 02:07:45.562  Function execution took 27 ms, finished with status: 'ok'\n",
      "D      hello_pubsub  04g9v5fwncv7  2020-05-09 02:20:50.268  Function execution started\n",
      "I      hello_pubsub  04g9v5fwncv7  2020-05-09 02:20:50.277  This Function was triggered by messageId 1176216792093091 published at 2020-05-09T02:20:49.636Z\n",
      "I      hello_pubsub  04g9v5fwncv7  2020-05-09 02:20:50.277\n",
      "I      hello_pubsub  04g9v5fwncv7  2020-05-09 02:20:50.277  {'table': 'covertype_dataset.covertype', 'num_examples': 10, 'predict_service': 'projects/mlops-dev-env/models/covertype_classifier_tf/versions/v2'}\n",
      "D      hello_pubsub  04g9v5fwncv7  2020-05-09 02:20:50.280  Function execution took 12 ms, finished with status: 'ok'\n",
      "D      hello_pubsub  01g5b6tr0lda  2020-05-09 02:41:21.722  Function execution started\n",
      "D      hello_pubsub  01g5b6tr0lda  2020-05-09 02:41:21.736  Function execution took 16 ms, finished with status: 'crash'\n",
      "D      hello_pubsub  do8uru59x59i  2020-05-09 02:42:29.088  Function execution started\n",
      "D      hello_pubsub  do8uru59x59i  2020-05-09 02:42:30.224  Function execution took 1137 ms, finished with status: 'crash'\n",
      "D      hello_pubsub  qtsgqonugytq  2020-05-09 02:47:28.479  Function execution started\n",
      "D      hello_pubsub  qtsgqonugytq  2020-05-09 02:47:29.529  Function execution took 1052 ms, finished with status: 'crash'\n",
      "D      hello_pubsub  ca9govxeyaei  2020-05-09 02:53:35.535  Function execution started\n",
      "I      hello_pubsub  ca9govxeyaei  2020-05-09 02:53:35.549  {\"table\": \"covertype_dataset.covertype\", \"num_examples\": 10, \"predict_service\": \"projects/mlops-dev-env/models/covertype_classifier_tf/versions/v2\"}\n",
      "D      hello_pubsub  ca9govxeyaei  2020-05-09 02:53:35.551  Function execution took 18 ms, finished with status: 'ok'\n",
      "D      hello_pubsub  iwm1m3ijgy9h  2020-05-09 03:06:18.420  Function execution started\n",
      "I      hello_pubsub  iwm1m3ijgy9h  2020-05-09 03:06:18.516  {'table': 'covertype_dataset.covertype', 'num_examples': 10, 'predict_service': 'projects/mlops-dev-env/models/covertype_classifier_tf/versions/v2'}\n",
      "D      hello_pubsub  iwm1m3ijgy9h  2020-05-09 03:06:18.518  Function execution took 100 ms, finished with status: 'ok'\n",
      "D      hello_pubsub  s0kqh6xh7sql  2020-05-09 06:18:40.413  Function execution started\n",
      "E      hello_pubsub  s0kqh6xh7sql  2020-05-09 06:18:43.770  file_cache is unavailable when using oauth2client >= 4.0.0 or google-auth\n",
      "E      hello_pubsub  s0kqh6xh7sql  2020-05-09 06:18:43.770  Traceback (most recent call last):\n",
      "E      hello_pubsub  s0kqh6xh7sql  2020-05-09 06:18:43.770    File \"/env/local/lib/python3.7/site-packages/google_api_python_client-1.8.0-py3.7.egg/googleapiclient/discovery_cache/__init__.py\", line 36, in autodetect\n",
      "E      hello_pubsub  s0kqh6xh7sql  2020-05-09 06:18:43.770      from google.appengine.api import memcache\n",
      "E      hello_pubsub  s0kqh6xh7sql  2020-05-09 06:18:43.770  ModuleNotFoundError: No module named 'google.appengine'\n",
      "E      hello_pubsub  s0kqh6xh7sql  2020-05-09 06:18:43.770\n",
      "E      hello_pubsub  s0kqh6xh7sql  2020-05-09 06:18:43.770  During handling of the above exception, another exception occurred:\n",
      "E      hello_pubsub  s0kqh6xh7sql  2020-05-09 06:18:43.770\n",
      "E      hello_pubsub  s0kqh6xh7sql  2020-05-09 06:18:43.770  Traceback (most recent call last):\n",
      "E      hello_pubsub  s0kqh6xh7sql  2020-05-09 06:18:43.770    File \"/env/local/lib/python3.7/site-packages/google_api_python_client-1.8.0-py3.7.egg/googleapiclient/discovery_cache/file_cache.py\", line 33, in <module>\n",
      "E      hello_pubsub  s0kqh6xh7sql  2020-05-09 06:18:43.770      from oauth2client.contrib.locked_file import LockedFile\n",
      "E      hello_pubsub  s0kqh6xh7sql  2020-05-09 06:18:43.770  ModuleNotFoundError: No module named 'oauth2client'\n",
      "E      hello_pubsub  s0kqh6xh7sql  2020-05-09 06:18:43.770\n",
      "E      hello_pubsub  s0kqh6xh7sql  2020-05-09 06:18:43.770  During handling of the above exception, another exception occurred:\n",
      "E      hello_pubsub  s0kqh6xh7sql  2020-05-09 06:18:43.770\n",
      "E      hello_pubsub  s0kqh6xh7sql  2020-05-09 06:18:43.770  Traceback (most recent call last):\n",
      "E      hello_pubsub  s0kqh6xh7sql  2020-05-09 06:18:43.770    File \"/env/local/lib/python3.7/site-packages/google_api_python_client-1.8.0-py3.7.egg/googleapiclient/discovery_cache/file_cache.py\", line 37, in <module>\n",
      "E      hello_pubsub  s0kqh6xh7sql  2020-05-09 06:18:43.770      from oauth2client.locked_file import LockedFile\n",
      "E      hello_pubsub  s0kqh6xh7sql  2020-05-09 06:18:43.770  ModuleNotFoundError: No module named 'oauth2client'\n",
      "E      hello_pubsub  s0kqh6xh7sql  2020-05-09 06:18:43.770\n",
      "E      hello_pubsub  s0kqh6xh7sql  2020-05-09 06:18:43.770  During handling of the above exception, another exception occurred:\n",
      "E      hello_pubsub  s0kqh6xh7sql  2020-05-09 06:18:43.770\n",
      "E      hello_pubsub  s0kqh6xh7sql  2020-05-09 06:18:43.770  Traceback (most recent call last):\n",
      "E      hello_pubsub  s0kqh6xh7sql  2020-05-09 06:18:43.770    File \"/env/local/lib/python3.7/site-packages/google_api_python_client-1.8.0-py3.7.egg/googleapiclient/discovery_cache/__init__.py\", line 42, in autodetect\n",
      "E      hello_pubsub  s0kqh6xh7sql  2020-05-09 06:18:43.770      from . import file_cache\n",
      "E      hello_pubsub  s0kqh6xh7sql  2020-05-09 06:18:43.770    File \"/env/local/lib/python3.7/site-packages/google_api_python_client-1.8.0-py3.7.egg/googleapiclient/discovery_cache/file_cache.py\", line 41, in <module>\n",
      "E      hello_pubsub  s0kqh6xh7sql  2020-05-09 06:18:43.770      \"file_cache is unavailable when using oauth2client >= 4.0.0 or google-auth\"\n",
      "E      hello_pubsub  s0kqh6xh7sql  2020-05-09 06:18:43.770  ImportError: file_cache is unavailable when using oauth2client >= 4.0.0 or google-auth\n",
      "I      hello_pubsub  s0kqh6xh7sql  2020-05-09 06:18:43.770  URL being requested: GET https://www.googleapis.com/discovery/v1/apis/ml/v1/rest\n",
      "I      hello_pubsub  s0kqh6xh7sql  2020-05-09 06:18:43.837  URL being requested: POST https://ml.googleapis.com/v1/projects/mlops-dev-env/models/covertype_classifier_tf/versions/v2:predict?alt=json\n"
     ]
    }
   ],
   "source": [
    "!gcloud functions logs read {FUNCTION} --limit 50"
   ]
  },
  {
   "cell_type": "code",
   "execution_count": 81,
   "metadata": {},
   "outputs": [],
   "source": []
  },
  {
   "cell_type": "code",
   "execution_count": 82,
   "metadata": {},
   "outputs": [
    {
     "data": {
      "text/plain": [
       "'{\"table\": \"covertype_dataset.covertype\", \"num_rows\": 3, \"service_name\": \"projects/mlops-dev-env/models/covertype_classifier_tf/versions/v2\", \"signature_name\": \"serving_default\", \"model_output_key\": \"probabilities\"}'"
      ]
     },
     "execution_count": 82,
     "metadata": {},
     "output_type": "execute_result"
    }
   ],
   "source": [
    "json.dumps(params)"
   ]
  },
  {
   "cell_type": "code",
   "execution_count": null,
   "metadata": {},
   "outputs": [],
   "source": []
  }
 ],
 "metadata": {
  "environment": {
   "name": "tf2-gpu.2-1.m46",
   "type": "gcloud",
   "uri": "gcr.io/deeplearning-platform-release/tf2-gpu.2-1:m46"
  },
  "kernelspec": {
   "display_name": "Python 3",
   "language": "python",
   "name": "python3"
  },
  "language_info": {
   "codemirror_mode": {
    "name": "ipython",
    "version": 3
   },
   "file_extension": ".py",
   "mimetype": "text/x-python",
   "name": "python",
   "nbconvert_exporter": "python",
   "pygments_lexer": "ipython3",
   "version": "3.7.6"
  }
 },
 "nbformat": 4,
 "nbformat_minor": 4
}
