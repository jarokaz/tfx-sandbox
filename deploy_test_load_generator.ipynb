{
 "cells": [
  {
   "cell_type": "markdown",
   "metadata": {},
   "source": [
    "# Predict generator"
   ]
  },
  {
   "cell_type": "code",
   "execution_count": 10,
   "metadata": {},
   "outputs": [
    {
     "name": "stdout",
     "output_type": "stream",
     "text": [
      "/home/jupyter/tfx-sandbox/prediction_robot\n"
     ]
    }
   ],
   "source": [
    "%cd prediction_robot"
   ]
  },
  {
   "cell_type": "code",
   "execution_count": 26,
   "metadata": {},
   "outputs": [
    {
     "name": "stdout",
     "output_type": "stream",
     "text": [
      "NAME          STATUS  TRIGGER        REGION\n",
      "hello_pubsub  ACTIVE  Event Trigger  us-central1\n"
     ]
    }
   ],
   "source": [
    "!gcloud functions list"
   ]
  },
  {
   "cell_type": "code",
   "execution_count": 21,
   "metadata": {},
   "outputs": [
    {
     "name": "stdout",
     "output_type": "stream",
     "text": [
      "---\n",
      "name: projects/mlops-dev-env/topics/container-analysis-notes-v1\n",
      "---\n",
      "name: projects/mlops-dev-env/topics/container-analysis-notes-v1beta1\n",
      "---\n",
      "name: projects/mlops-dev-env/topics/container-analysis-occurrences-v1\n",
      "---\n",
      "name: projects/mlops-dev-env/topics/container-analysis-occurrences-v1beta1\n",
      "---\n",
      "name: projects/mlops-dev-env/topics/cloud-builds\n",
      "---\n",
      "name: projects/mlops-dev-env/topics/messages\n",
      "---\n",
      "name: projects/mlops-dev-env/topics/predict_trigger\n",
      "---\n",
      "name: projects/mlops-dev-env/topics/test_topic\n"
     ]
    }
   ],
   "source": [
    "!gcloud pubsub topics list"
   ]
  },
  {
   "cell_type": "code",
   "execution_count": 50,
   "metadata": {},
   "outputs": [],
   "source": [
    "FUNCTION = 'run_predictions'\n",
    "TOPIC = 'predict_trigger'"
   ]
  },
  {
   "cell_type": "code",
   "execution_count": 52,
   "metadata": {},
   "outputs": [
    {
     "name": "stdout",
     "output_type": "stream",
     "text": [
      "Deploying function (may take a while - up to 2 minutes)...failed.              \n",
      "\u001b[1;31mERROR:\u001b[0m (gcloud.functions.deploy) OperationError: code=3, message=Build failed: {\"error\": {\"canonicalCode\": \"INTERNAL\", \"errorMessage\": \"gzip_tar_runtime_package gzip /tmp/tmppaIZZV.tar -1\\nexited with error [Errno 12] Cannot allocate memory\\ngzip_tar_runtime_package is likely not on the path\", \"errorType\": \"InternalError\", \"errorId\": \"9717973F\"}}\n"
     ]
    }
   ],
   "source": [
    "!gcloud functions deploy {FUNCTION} --runtime python37 --trigger-topic {TOPIC}"
   ]
  },
  {
   "cell_type": "code",
   "execution_count": 61,
   "metadata": {},
   "outputs": [
    {
     "data": {
      "text/plain": [
       "'{\"data_file\": \"gs://workshop-datasets/covertype/small/dataset.csv\", \"num_examples\": 3, \"service_name\": \"projects/mlops-dev-env/models/covertype_classifier_tf/versions/v2\", \"signature_name\": \"serving_default\", \"model_output_key\": \"output_1\"}'"
      ]
     },
     "execution_count": 61,
     "metadata": {},
     "output_type": "execute_result"
    }
   ],
   "source": [
    "import json\n",
    "\n",
    "params = {\n",
    "        'data_file': 'gs://workshop-datasets/covertype/small/dataset.csv',\n",
    "        'num_examples': 3,\n",
    "        'service_name': 'projects/mlops-dev-env/models/covertype_classifier_tf/versions/v2',\n",
    "        'signature_name': 'serving_default',\n",
    "        'model_output_key': 'output_1'\n",
    "    }\n",
    "\n",
    "MESSAGE = json.dumps(params)\n",
    "MESSAGE"
   ]
  },
  {
   "cell_type": "code",
   "execution_count": 59,
   "metadata": {},
   "outputs": [
    {
     "name": "stdout",
     "output_type": "stream",
     "text": [
      "messageIds:\n",
      "- '1177521236300955'\n"
     ]
    }
   ],
   "source": [
    "!gcloud pubsub topics publish {TOPIC} --message '{MESSAGE}'"
   ]
  },
  {
   "cell_type": "code",
   "execution_count": 62,
   "metadata": {},
   "outputs": [
    {
     "name": "stdout",
     "output_type": "stream",
     "text": [
      "LEVEL  NAME             EXECUTION_ID  TIME_UTC                 LOG\n",
      "E      run_predictions  q85bhuxlvisd  2020-05-09 17:07:40.894  During handling of the above exception, another exception occurred:\n",
      "E      run_predictions  q85bhuxlvisd  2020-05-09 17:07:40.894\n",
      "E      run_predictions  q85bhuxlvisd  2020-05-09 17:07:40.894  Traceback (most recent call last):\n",
      "E      run_predictions  q85bhuxlvisd  2020-05-09 17:07:40.894    File \"/env/local/lib/python3.7/site-packages/googleapiclient/discovery_cache/file_cache.py\", line 37, in <module>\n",
      "E      run_predictions  q85bhuxlvisd  2020-05-09 17:07:40.894      from oauth2client.locked_file import LockedFile\n",
      "E      run_predictions  q85bhuxlvisd  2020-05-09 17:07:40.894  ModuleNotFoundError: No module named 'oauth2client'\n",
      "E      run_predictions  q85bhuxlvisd  2020-05-09 17:07:40.894\n",
      "E      run_predictions  q85bhuxlvisd  2020-05-09 17:07:40.894  During handling of the above exception, another exception occurred:\n",
      "E      run_predictions  q85bhuxlvisd  2020-05-09 17:07:40.894\n",
      "E      run_predictions  q85bhuxlvisd  2020-05-09 17:07:40.894  Traceback (most recent call last):\n",
      "E      run_predictions  q85bhuxlvisd  2020-05-09 17:07:40.894    File \"/env/local/lib/python3.7/site-packages/googleapiclient/discovery_cache/__init__.py\", line 42, in autodetect\n",
      "E      run_predictions  q85bhuxlvisd  2020-05-09 17:07:40.894      from . import file_cache\n",
      "E      run_predictions  q85bhuxlvisd  2020-05-09 17:07:40.894    File \"/env/local/lib/python3.7/site-packages/googleapiclient/discovery_cache/file_cache.py\", line 41, in <module>\n",
      "E      run_predictions  q85bhuxlvisd  2020-05-09 17:07:40.894      \"file_cache is unavailable when using oauth2client >= 4.0.0 or google-auth\"\n",
      "E      run_predictions  q85bhuxlvisd  2020-05-09 17:07:40.894  ImportError: file_cache is unavailable when using oauth2client >= 4.0.0 or google-auth\n",
      "I      run_predictions  q85bhuxlvisd  2020-05-09 17:07:40.894  URL being requested: GET https://www.googleapis.com/discovery/v1/apis/ml/v1/rest\n",
      "I      run_predictions  q85bhuxlvisd  2020-05-09 17:07:41.088  URL being requested: POST https://ml.googleapis.com/v1/projects/mlops-dev-env/models/covertype_classifier_tf/versions/v2:predict?alt=json\n",
      "D      run_predictions  q85bhuxlvisd  2020-05-09 17:07:41.365  Function execution took 8490 ms, finished with status: 'ok'\n",
      "D      run_predictions  q85bu4kqrh75  2020-05-09 17:09:49.888  Function execution started\n",
      "E      run_predictions  q85bu4kqrh75  2020-05-09 17:09:51.997  file_cache is unavailable when using oauth2client >= 4.0.0 or google-auth\n",
      "E      run_predictions  q85bu4kqrh75  2020-05-09 17:09:51.997  Traceback (most recent call last):\n",
      "E      run_predictions  q85bu4kqrh75  2020-05-09 17:09:51.997    File \"/env/local/lib/python3.7/site-packages/googleapiclient/discovery_cache/__init__.py\", line 36, in autodetect\n",
      "E      run_predictions  q85bu4kqrh75  2020-05-09 17:09:51.997      from google.appengine.api import memcache\n",
      "E      run_predictions  q85bu4kqrh75  2020-05-09 17:09:51.997  ModuleNotFoundError: No module named 'google.appengine'\n",
      "E      run_predictions  q85bu4kqrh75  2020-05-09 17:09:51.997\n",
      "E      run_predictions  q85bu4kqrh75  2020-05-09 17:09:51.997  During handling of the above exception, another exception occurred:\n",
      "E      run_predictions  q85bu4kqrh75  2020-05-09 17:09:51.997\n",
      "E      run_predictions  q85bu4kqrh75  2020-05-09 17:09:51.997  Traceback (most recent call last):\n",
      "E      run_predictions  q85bu4kqrh75  2020-05-09 17:09:51.997    File \"/env/local/lib/python3.7/site-packages/googleapiclient/discovery_cache/file_cache.py\", line 33, in <module>\n",
      "E      run_predictions  q85bu4kqrh75  2020-05-09 17:09:51.997      from oauth2client.contrib.locked_file import LockedFile\n",
      "E      run_predictions  q85bu4kqrh75  2020-05-09 17:09:51.997  ModuleNotFoundError: No module named 'oauth2client'\n",
      "E      run_predictions  q85bu4kqrh75  2020-05-09 17:09:51.997\n",
      "E      run_predictions  q85bu4kqrh75  2020-05-09 17:09:51.997  During handling of the above exception, another exception occurred:\n",
      "E      run_predictions  q85bu4kqrh75  2020-05-09 17:09:51.997\n",
      "E      run_predictions  q85bu4kqrh75  2020-05-09 17:09:51.997  Traceback (most recent call last):\n",
      "E      run_predictions  q85bu4kqrh75  2020-05-09 17:09:51.997    File \"/env/local/lib/python3.7/site-packages/googleapiclient/discovery_cache/file_cache.py\", line 37, in <module>\n",
      "E      run_predictions  q85bu4kqrh75  2020-05-09 17:09:51.997      from oauth2client.locked_file import LockedFile\n",
      "E      run_predictions  q85bu4kqrh75  2020-05-09 17:09:51.997  ModuleNotFoundError: No module named 'oauth2client'\n",
      "E      run_predictions  q85bu4kqrh75  2020-05-09 17:09:51.997\n",
      "E      run_predictions  q85bu4kqrh75  2020-05-09 17:09:51.997  During handling of the above exception, another exception occurred:\n",
      "E      run_predictions  q85bu4kqrh75  2020-05-09 17:09:51.997\n",
      "E      run_predictions  q85bu4kqrh75  2020-05-09 17:09:51.997  Traceback (most recent call last):\n",
      "E      run_predictions  q85bu4kqrh75  2020-05-09 17:09:51.997    File \"/env/local/lib/python3.7/site-packages/googleapiclient/discovery_cache/__init__.py\", line 42, in autodetect\n",
      "E      run_predictions  q85bu4kqrh75  2020-05-09 17:09:51.997      from . import file_cache\n",
      "E      run_predictions  q85bu4kqrh75  2020-05-09 17:09:51.997    File \"/env/local/lib/python3.7/site-packages/googleapiclient/discovery_cache/file_cache.py\", line 41, in <module>\n",
      "E      run_predictions  q85bu4kqrh75  2020-05-09 17:09:51.997      \"file_cache is unavailable when using oauth2client >= 4.0.0 or google-auth\"\n",
      "E      run_predictions  q85bu4kqrh75  2020-05-09 17:09:51.997  ImportError: file_cache is unavailable when using oauth2client >= 4.0.0 or google-auth\n",
      "I      run_predictions  q85bu4kqrh75  2020-05-09 17:09:51.997  URL being requested: GET https://www.googleapis.com/discovery/v1/apis/ml/v1/rest\n",
      "I      run_predictions  q85bu4kqrh75  2020-05-09 17:09:52.198  URL being requested: POST https://ml.googleapis.com/v1/projects/mlops-dev-env/models/covertype_classifier_tf/versions/v2:predict?alt=json\n",
      "D      run_predictions  q85bu4kqrh75  2020-05-09 17:09:52.474  Function execution took 2587 ms, finished with status: 'ok'\n"
     ]
    }
   ],
   "source": [
    "!gcloud functions logs read {FUNCTION} --limit 50"
   ]
  },
  {
   "cell_type": "code",
   "execution_count": null,
   "metadata": {},
   "outputs": [],
   "source": []
  }
 ],
 "metadata": {
  "environment": {
   "name": "tf2-gpu.2-1.m46",
   "type": "gcloud",
   "uri": "gcr.io/deeplearning-platform-release/tf2-gpu.2-1:m46"
  },
  "kernelspec": {
   "display_name": "Python 3",
   "language": "python",
   "name": "python3"
  },
  "language_info": {
   "codemirror_mode": {
    "name": "ipython",
    "version": 3
   },
   "file_extension": ".py",
   "mimetype": "text/x-python",
   "name": "python",
   "nbconvert_exporter": "python",
   "pygments_lexer": "ipython3",
   "version": "3.7.6"
  }
 },
 "nbformat": 4,
 "nbformat_minor": 4
}
