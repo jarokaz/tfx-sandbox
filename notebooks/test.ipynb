{
 "cells": [
  {
   "cell_type": "markdown",
   "metadata": {},
   "source": [
    "##### Copyright 2020 Google Inc.\n",
    "\n",
    "Licensed under the Apache License, Version 2.0 (the \"License\").\n",
    "<!--\n",
    "    Licensed to the Apache Software Foundation (ASF) under one\n",
    "    or more contributor license agreements.  See the NOTICE file\n",
    "    distributed with this work for additional information\n",
    "    regarding copyright ownership.  The ASF licenses this file\n",
    "    to you under the Apache License, Version 2.0 (the\n",
    "    \"License\"); you may not use this file except in compliance\n",
    "    with the License.  You may obtain a copy of the License at\n",
    "\n",
    "      http://www.apache.org/licenses/LICENSE-2.0\n",
    "\n",
    "    Unless required by applicable law or agreed to in writing,\n",
    "    software distributed under the License is distributed on an\n",
    "    \"AS IS\" BASIS, WITHOUT WARRANTIES OR CONDITIONS OF ANY\n",
    "    KIND, either express or implied.  See the License for the\n",
    "    specific language governing permissions and limitations\n",
    "    under the License.\n",
    "-->\n"
   ]
  },
  {
   "cell_type": "markdown",
   "metadata": {},
   "source": [
    "# TFDV and Apache Beam sandbox"
   ]
  },
  {
   "cell_type": "code",
   "execution_count": 3,
   "metadata": {},
   "outputs": [],
   "source": [
    "import tensorflow_data_validation as tfdv\n",
    "import os"
   ]
  },
  {
   "cell_type": "code",
   "execution_count": 23,
   "metadata": {},
   "outputs": [],
   "source": [
    "output_path = 'gs://hostedkfp-default-36un4wco1q/tfdv'\n",
    "#output_path = '/home/jupyter/output'\n",
    " \n",
    "_STATS_FILENAME='stats.pb'\n",
    "_ANOMALIES_FILENAME='anomalies.pbtxt'\n",
    "\n",
    "stats_output_path = os.path.join(output_path, _STATS_FILENAME)\n",
    "anomalies_output_path = os.path.join(output_path, _ANOMALIES_FILENAME)\n",
    " "
   ]
  },
  {
   "cell_type": "code",
   "execution_count": 29,
   "metadata": {},
   "outputs": [],
   "source": [
    "stats = tfdv.load_statistics(stats_output_path)"
   ]
  },
  {
   "cell_type": "code",
   "execution_count": 30,
   "metadata": {},
   "outputs": [
    {
     "data": {
      "text/html": [
       "<iframe id='facets-iframe' width=\"100%\" height=\"500px\"></iframe>\n",
       "        <script>\n",
       "        facets_iframe = document.getElementById('facets-iframe');\n",
       "        facets_html = '<script src=\"https://cdnjs.cloudflare.com/ajax/libs/webcomponentsjs/1.3.3/webcomponents-lite.js\"><\\/script><link rel=\"import\" href=\"https://raw.githubusercontent.com/PAIR-code/facets/master/facets-dist/facets-jupyter.html\"><facets-overview proto-input=\"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\"></facets-overview>';\n",
       "        facets_iframe.srcdoc = facets_html;\n",
       "         facets_iframe.id = \"\";\n",
       "         setTimeout(() => {\n",
       "           facets_iframe.setAttribute('height', facets_iframe.contentWindow.document.body.offsetHeight + 'px')\n",
       "         }, 1500)\n",
       "         </script>"
      ],
      "text/plain": [
       "<IPython.core.display.HTML object>"
      ]
     },
     "metadata": {},
     "output_type": "display_data"
    }
   ],
   "source": [
    "tfdv.visualize_statistics(stats)"
   ]
  },
  {
   "cell_type": "code",
   "execution_count": 41,
   "metadata": {},
   "outputs": [],
   "source": [
    "anomalies = tfdv.load_anomalies_text(anomalies_output_path)"
   ]
  },
  {
   "cell_type": "code",
   "execution_count": 42,
   "metadata": {},
   "outputs": [
    {
     "data": {
      "text/html": [
       "<h4 style=\"color:green;\">No anomalies found.</h4>"
      ],
      "text/plain": [
       "<IPython.core.display.HTML object>"
      ]
     },
     "metadata": {},
     "output_type": "display_data"
    }
   ],
   "source": [
    "tfdv.display_anomalies(anomalies)"
   ]
  },
  {
   "cell_type": "code",
   "execution_count": 1,
   "metadata": {},
   "outputs": [],
   "source": [
    "import pyarrow as pa\n"
   ]
  },
  {
   "cell_type": "code",
   "execution_count": 22,
   "metadata": {},
   "outputs": [],
   "source": [
    "obj = [{'c1': [1], 'c2': [3.0]}, {'c1': [2], 'c2': [6.0]}]\n",
    "struct_array = pa.array(obj)"
   ]
  },
  {
   "cell_type": "code",
   "execution_count": 23,
   "metadata": {},
   "outputs": [],
   "source": [
    "field_names = [f.name for f in list(struct_array.type)]"
   ]
  },
  {
   "cell_type": "code",
   "execution_count": 24,
   "metadata": {},
   "outputs": [
    {
     "data": {
      "text/plain": [
       "['c1', 'c2']"
      ]
     },
     "execution_count": 24,
     "metadata": {},
     "output_type": "execute_result"
    }
   ],
   "source": [
    "field_names"
   ]
  },
  {
   "cell_type": "code",
   "execution_count": 25,
   "metadata": {},
   "outputs": [],
   "source": [
    "value_arrays = struct_array.flatten()"
   ]
  },
  {
   "cell_type": "code",
   "execution_count": 26,
   "metadata": {},
   "outputs": [
    {
     "data": {
      "text/plain": [
       "[<pyarrow.lib.ListArray object at 0x7f4ec26c6c90>\n",
       " [\n",
       "   [\n",
       "     1\n",
       "   ],\n",
       "   [\n",
       "     2\n",
       "   ]\n",
       " ],\n",
       " <pyarrow.lib.ListArray object at 0x7f4ec26c6830>\n",
       " [\n",
       "   [\n",
       "     3\n",
       "   ],\n",
       "   [\n",
       "     6\n",
       "   ]\n",
       " ]]"
      ]
     },
     "execution_count": 26,
     "metadata": {},
     "output_type": "execute_result"
    }
   ],
   "source": [
    "value_arrays"
   ]
  },
  {
   "cell_type": "code",
   "execution_count": 27,
   "metadata": {},
   "outputs": [],
   "source": [
    "ar1 = value_arrays[1]"
   ]
  },
  {
   "cell_type": "code",
   "execution_count": 28,
   "metadata": {},
   "outputs": [
    {
     "data": {
      "text/plain": [
       "ListType(list<item: double>)"
      ]
     },
     "execution_count": 28,
     "metadata": {},
     "output_type": "execute_result"
    }
   ],
   "source": [
    "ar1.type"
   ]
  },
  {
   "cell_type": "code",
   "execution_count": 31,
   "metadata": {},
   "outputs": [
    {
     "data": {
      "text/plain": [
       "<pyarrow.lib.ListArray object at 0x7f4ec26c64b0>\n",
       "[\n",
       "  [\n",
       "    1\n",
       "  ]\n",
       "]"
      ]
     },
     "execution_count": 31,
     "metadata": {},
     "output_type": "execute_result"
    }
   ],
   "source": [
    "obj = [[1]]\n",
    "pa.array(obj)"
   ]
  },
  {
   "cell_type": "code",
   "execution_count": null,
   "metadata": {},
   "outputs": [],
   "source": []
  }
 ],
 "metadata": {
  "environment": {
   "name": "tf2-gpu.2-1.m47",
   "type": "gcloud",
   "uri": "gcr.io/deeplearning-platform-release/tf2-gpu.2-1:m47"
  },
  "kernelspec": {
   "display_name": "Python 3",
   "language": "python",
   "name": "python3"
  },
  "language_info": {
   "codemirror_mode": {
    "name": "ipython",
    "version": 3
   },
   "file_extension": ".py",
   "mimetype": "text/x-python",
   "name": "python",
   "nbconvert_exporter": "python",
   "pygments_lexer": "ipython3",
   "version": "3.7.6"
  }
 },
 "nbformat": 4,
 "nbformat_minor": 4
}
