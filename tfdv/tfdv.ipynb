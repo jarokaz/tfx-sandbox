{
 "cells": [
  {
   "cell_type": "markdown",
   "metadata": {},
   "source": [
    "##### Copyright 2020 Google Inc.\n",
    "\n",
    "Licensed under the Apache License, Version 2.0 (the \"License\").\n",
    "<!--\n",
    "    Licensed to the Apache Software Foundation (ASF) under one\n",
    "    or more contributor license agreements.  See the NOTICE file\n",
    "    distributed with this work for additional information\n",
    "    regarding copyright ownership.  The ASF licenses this file\n",
    "    to you under the Apache License, Version 2.0 (the\n",
    "    \"License\"); you may not use this file except in compliance\n",
    "    with the License.  You may obtain a copy of the License at\n",
    "\n",
    "      http://www.apache.org/licenses/LICENSE-2.0\n",
    "\n",
    "    Unless required by applicable law or agreed to in writing,\n",
    "    software distributed under the License is distributed on an\n",
    "    \"AS IS\" BASIS, WITHOUT WARRANTIES OR CONDITIONS OF ANY\n",
    "    KIND, either express or implied.  See the License for the\n",
    "    specific language governing permissions and limitations\n",
    "    under the License.\n",
    "-->\n"
   ]
  },
  {
   "cell_type": "markdown",
   "metadata": {},
   "source": [
    "# TFDV and Apache Beam sandbox"
   ]
  },
  {
   "cell_type": "code",
   "execution_count": null,
   "metadata": {},
   "outputs": [],
   "source": [
    "%pip install tfx"
   ]
  },
  {
   "cell_type": "code",
   "execution_count": null,
   "metadata": {},
   "outputs": [],
   "source": [
    "import logging\n",
    "import re\n",
    "\n",
    "import pyarrow as pa\n",
    "\n",
    "from typing import List, Optional, Text, Union, Dict, Iterable\n",
    "\n",
    "import apache_beam as beam\n",
    "from apache_beam.runners.interactive.interactive_runner import InteractiveRunner\n",
    "import apache_beam.runners.interactive.interactive_beam as ib\n",
    "\n",
    "from apache_beam.options import pipeline_options\n",
    "from apache_beam.options.pipeline_options import GoogleCloudOptions\n",
    "from apache_beam.runners import DataflowRunner\n",
    "\n",
    "from apache_beam.options.pipeline_options import PipelineOptions\n",
    "from apache_beam.options.pipeline_options import SetupOptions\n",
    "\n",
    "from apache_beam.io.gcp.internal.clients import bigquery\n",
    "\n",
    "#from tensorflow_data_validation import types\n",
    "\n",
    "from jinja2 import Template\n",
    "\n",
    "import google.auth"
   ]
  },
  {
   "cell_type": "raw",
   "metadata": {},
   "source": [
    "# Setting up the Apache Beam pipeline options.\n",
    "options = pipeline_options.PipelineOptions(flags=[])\n",
    "\n",
    "# Sets the project to the default project in your current Google Cloud environment.\n",
    "_, options.view_as(GoogleCloudOptions).project = google.auth.default()\n",
    "\n",
    "# Sets the Google Cloud Region in which Cloud Dataflow will run.\n",
    "options.view_as(GoogleCloudOptions).region = 'us-central1'\n",
    "\n",
    "# Because this notebook comes with a locally built version of the Beam Python SDK, we will need to set\n",
    "# the sdk_location option for the Dataflow Runner. You will not need to do this if you are using an\n",
    "# officially released version of Apache Beam.\n",
    "options.view_as(pipeline_options.SetupOptions).sdk_location = (\n",
    "    '/root/apache-beam-custom/packages/beam/sdks/python/dist/apache-beam-%s0.tar.gz' % \n",
    "    beam.version.__version__)\n",
    "\n",
    "# IMPORTANT! Please adjust the following to choose a GCS location.\n",
    "dataflow_gcs_location = 'gs://<my_bucket>/dataflow'\n",
    "\n",
    "# Dataflow Staging Location.\n",
    "options.view_as(GoogleCloudOptions).staging_location = '%s/staging' % dataflow_gcs_location\n",
    "\n",
    "# Dataflow Temp Location.\n",
    "options.view_as(GoogleCloudOptions).temp_location = '%s/temp' % dataflow_gcs_location\n",
    "\n",
    "p = beam.Pipeline(DataflowRunner(), options=options)"
   ]
  },
  {
   "cell_type": "code",
   "execution_count": null,
   "metadata": {},
   "outputs": [],
   "source": [
    "%%bigquery\n",
    "select * from `covertype_dataset.covertype`\n",
    "limit 100"
   ]
  },
  {
   "cell_type": "code",
   "execution_count": null,
   "metadata": {},
   "outputs": [],
   "source": [
    "class DataDriftOptions(PipelineOptions):\n",
    "    @classmethod\n",
    "    def _add_argparse_args(cls, parser):\n",
    "        parser.add_argument(\n",
    "        '--baseline_data_location',\n",
    "        help=\"Input for the pipeline\",\n",
    "        default='gs://workshop-datasets/covertype/small')\n",
    "        \n",
    "        parser.add_argument(\n",
    "        '--target_data_table',\n",
    "        help=\"A target BQ table with data to analyze\",\n",
    "        default=\"covertype_dataset.covertype\")\n",
    "        \n",
    "   "
   ]
  },
  {
   "cell_type": "code",
   "execution_count": null,
   "metadata": {},
   "outputs": [],
   "source": [
    "def generate_sampling_query(source_table_name, num_lots, lots):\n",
    "  \"\"\"Prepares the data sampling query.\"\"\"\n",
    "\n",
    "  sampling_query_template = \"\"\"\n",
    "       SELECT *\n",
    "       FROM \n",
    "           `{{ source_table }}` AS cover\n",
    "       WHERE \n",
    "       MOD(ABS(FARM_FINGERPRINT(TO_JSON_STRING(cover))), {{ num_lots }}) IN ({{ lots }})\n",
    "       \"\"\"\n",
    "  query = Template(sampling_query_template).render(\n",
    "      source_table=source_table_name, num_lots=num_lots, lots=str(lots)[1:-1])\n",
    "\n",
    "  return query\n"
   ]
  },
  {
   "cell_type": "code",
   "execution_count": null,
   "metadata": {},
   "outputs": [],
   "source": [
    "source_table_name = 'mlops-dev-env.covertype_dataset.covertype'\n",
    "num_lots = 100\n",
    "lots = [1]\n",
    "\n",
    "query = generate_sampling_query(source_table_name, num_lots, lots)"
   ]
  },
  {
   "cell_type": "code",
   "execution_count": null,
   "metadata": {},
   "outputs": [],
   "source": [
    "options = PipelineOptions()\n",
    "options.view_as(GoogleCloudOptions).project = 'mlops-dev-env'"
   ]
  },
  {
   "cell_type": "code",
   "execution_count": null,
   "metadata": {},
   "outputs": [],
   "source": [
    "custom_options = options.view_as(DataDriftOptions)"
   ]
  },
  {
   "cell_type": "code",
   "execution_count": null,
   "metadata": {},
   "outputs": [],
   "source": [
    "#p = beam.Pipeline(options=options)"
   ]
  },
  {
   "cell_type": "code",
   "execution_count": null,
   "metadata": {},
   "outputs": [],
   "source": [
    "p = beam.Pipeline(InteractiveRunner(), options=options)"
   ]
  },
  {
   "cell_type": "code",
   "execution_count": null,
   "metadata": {},
   "outputs": [],
   "source": [
    "class BatchedDictsToRecordBatch(beam.DoFn):\n",
    "    \"\"\"DoFn to convert a batch of dictionaries to a pyarrow.RecordBatch.\n",
    "  \n",
    "    In the current implementation, the function relies on automatic\n",
    "    coercion to pyarrow data types. \n",
    "    To be verified whether this is a right approach.\n",
    "    \"\"\"\n",
    "\n",
    "    def process(self, batch: List[Dict]) -> Iterable[pa.RecordBatch]:\n",
    "        \n",
    "        column_names = batch[0].keys()\n",
    "        values_by_column = {column_name: [] for column_name in column_names}\n",
    "        for row in batch:\n",
    "            for key, value in row.items():\n",
    "                values_by_column[key].append(value)\n",
    "                \n",
    "        arrow_arrays = [\n",
    "            pa.array(arr) for arr in values_by_column.values()\n",
    "            ]  \n",
    "        \n",
    "        yield pa.RecordBatch.from_arrays(arrow_arrays, list(column_names))\n",
    "  "
   ]
  },
  {
   "cell_type": "raw",
   "metadata": {},
   "source": [
    "batch = [\n",
    "    {\n",
    "        'c1': 10,\n",
    "        'c2': 'aaa'\n",
    "    },\n",
    "    {\n",
    "        'c1': 20,\n",
    "        'c2': 'bbb'\n",
    "    }\n",
    "]\n",
    "\n",
    "\n",
    "t1 = BatchedDictsToRecordBatch()\n",
    "\n",
    "\n",
    "for item in t1.process(batch):\n",
    "    print(item)"
   ]
  },
  {
   "cell_type": "code",
   "execution_count": null,
   "metadata": {},
   "outputs": [],
   "source": [
    "#@beam.typehints.with_input_types(types.BeamCSVRecord)\n",
    "#@beam.typehints.with_output_types(pa.RecordBatch)\n",
    "class DecodeBigQuery(beam.PTransform):\n",
    "    \"\"\"Decodes BigQuery records into Arrow RecordBatches.\"\"\"\n",
    "    def __init__(\n",
    "        self,\n",
    "        column_names: List):\n",
    "    \n",
    "        if not isinstance(column_names, list):\n",
    "            raise TypeError('column_names is of type %s, should be a list' %\n",
    "                            type(column_names).__name__)\n",
    "        self._column_names = column_names\n",
    "    \n",
    "    def expand(self, pcoll):\n",
    "        record_batches = (\n",
    "            pcoll\n",
    "            | beam.Map(lambda row: {field: row[field]\n",
    "                                    for field in self._column_names})\n",
    "            | beam.BatchElements(min_batch_size=2, max_batch_size=3)\n",
    "            | beam.ParDo(\n",
    "                BatchedDictsToRecordBatch())\n",
    "            )\n",
    "\n",
    "        return record_batches"
   ]
  },
  {
   "cell_type": "code",
   "execution_count": null,
   "metadata": {},
   "outputs": [],
   "source": [
    "records = (p\n",
    "           | 'query' >> beam.io.Read(beam.io.BigQuerySource(query=query, use_standard_sql=True))\n",
    "           | 'batch' >> DecodeBigQuery(['Elevation', 'Aspect'])\n",
    "          )"
   ]
  },
  {
   "cell_type": "code",
   "execution_count": null,
   "metadata": {},
   "outputs": [],
   "source": [
    "ib.show_graph(p)"
   ]
  },
  {
   "cell_type": "code",
   "execution_count": null,
   "metadata": {},
   "outputs": [],
   "source": [
    "ib.show(records)"
   ]
  },
  {
   "cell_type": "code",
   "execution_count": null,
   "metadata": {},
   "outputs": [],
   "source": []
  },
  {
   "cell_type": "code",
   "execution_count": null,
   "metadata": {},
   "outputs": [],
   "source": [
    "words = (p \n",
    "         | 'read' >> beam.io.ReadFromText(custom_options.data_location)\n",
    "         | 'extract' >> beam.FlatMap(lambda line: re.findall(r'[\\w\\']+', line.strip(), re.UNICODE))\n",
    ")\n"
   ]
  },
  {
   "cell_type": "code",
   "execution_count": null,
   "metadata": {},
   "outputs": [],
   "source": [
    "ib.show_graph(p)"
   ]
  },
  {
   "cell_type": "code",
   "execution_count": null,
   "metadata": {},
   "outputs": [],
   "source": [
    "counts = (words \n",
    "          | 'count' >> beam.combiners.Count.PerElement())"
   ]
  },
  {
   "cell_type": "code",
   "execution_count": null,
   "metadata": {},
   "outputs": [],
   "source": [
    "ib.show_graph(counts)"
   ]
  },
  {
   "cell_type": "code",
   "execution_count": null,
   "metadata": {},
   "outputs": [],
   "source": [
    "d1 = {'a': 2, 'b': 'hello'}"
   ]
  },
  {
   "cell_type": "code",
   "execution_count": null,
   "metadata": {},
   "outputs": [],
   "source": [
    "list(d1.keys())"
   ]
  },
  {
   "cell_type": "code",
   "execution_count": null,
   "metadata": {},
   "outputs": [],
   "source": [
    "d1.values()"
   ]
  },
  {
   "cell_type": "code",
   "execution_count": null,
   "metadata": {},
   "outputs": [],
   "source": [
    "from google.cloud import bigquery\n",
    "\n",
    "client = bigquery.Client()\n",
    "\n",
    "query_job = client.query('SELECT * FROM ({}) LIMIT 0'.format(query))\n",
    "results = query_job.result()"
   ]
  },
  {
   "cell_type": "code",
   "execution_count": null,
   "metadata": {},
   "outputs": [],
   "source": [
    "schema = {field.name: field.field_type for field in results.schema}\n",
    "schema"
   ]
  },
  {
   "cell_type": "code",
   "execution_count": null,
   "metadata": {},
   "outputs": [],
   "source": [
    "schema.values()"
   ]
  },
  {
   "cell_type": "code",
   "execution_count": null,
   "metadata": {},
   "outputs": [],
   "source": [
    "'BOOL' in schema.values()"
   ]
  },
  {
   "cell_type": "code",
   "execution_count": null,
   "metadata": {},
   "outputs": [],
   "source": [
    "supported_types = set(['INTEGER', 'STRING', 'BOOL'])\n",
    "supported_types"
   ]
  },
  {
   "cell_type": "code",
   "execution_count": null,
   "metadata": {},
   "outputs": [],
   "source": [
    "query_schema = set(['STRING', 'BOOL', 'STRING', 'INTEGER', 'FLOAT'])\n",
    "query_schema"
   ]
  },
  {
   "cell_type": "code",
   "execution_count": null,
   "metadata": {},
   "outputs": [],
   "source": [
    "query_schema in supported_types"
   ]
  },
  {
   "cell_type": "code",
   "execution_count": null,
   "metadata": {},
   "outputs": [],
   "source": [
    "query_schema.issubset(supported_types)"
   ]
  },
  {
   "cell_type": "code",
   "execution_count": null,
   "metadata": {},
   "outputs": [],
   "source": [
    "schema"
   ]
  },
  {
   "cell_type": "code",
   "execution_count": null,
   "metadata": {},
   "outputs": [],
   "source": [
    "list(schema.keys())"
   ]
  },
  {
   "cell_type": "code",
   "execution_count": null,
   "metadata": {},
   "outputs": [],
   "source": [
    "la = ['aa', 'bb', 'cc']\n",
    "lb = ['cc', 'bb', 'aa']"
   ]
  },
  {
   "cell_type": "code",
   "execution_count": null,
   "metadata": {},
   "outputs": [],
   "source": [
    "set(la) == set(lb)"
   ]
  },
  {
   "cell_type": "code",
   "execution_count": null,
   "metadata": {},
   "outputs": [],
   "source": [
    "set(schema.keys())"
   ]
  },
  {
   "cell_type": "code",
   "execution_count": null,
   "metadata": {},
   "outputs": [],
   "source": []
  },
  {
   "cell_type": "code",
   "execution_count": null,
   "metadata": {},
   "outputs": [],
   "source": []
  },
  {
   "cell_type": "code",
   "execution_count": 1,
   "metadata": {},
   "outputs": [],
   "source": [
    "import tensorflow_data_validation as tfdv"
   ]
  },
  {
   "cell_type": "code",
   "execution_count": 2,
   "metadata": {},
   "outputs": [
    {
     "name": "stdout",
     "output_type": "stream",
     "text": [
      "beam-temp-stats-045f165c898c11ea99bb42010a8a0007\n",
      "beam-temp-stats-167ef80e898f11eabd0242010a8a0007\n",
      "beam-temp-stats-3215cc4e898c11ea81f342010a8a0007\n",
      "beam-temp-stats-3235369a898e11ea970342010a8a0007\n",
      "beam-temp-stats-775b281c899111eaa3e242010a8a0007\n",
      "beam-temp-stats-7ac1a246898d11ea977542010a8a0007\n",
      "beam-temp-stats-8f3ee18e898d11eaa4d242010a8a0007\n",
      "beam-temp-stats-8fd865ba898e11eabdda42010a8a0007\n",
      "beam-temp-stats-a8870440898e11eab60d42010a8a0007\n",
      "beam-temp-stats-b3ac7060898b11ea845942010a8a0007\n",
      "beam-temp-stats-c06c525c898b11ea818942010a8a0007\n",
      "beam-temp-stats-d08606c6898e11eabe6942010a8a0007\n",
      "beam-temp-stats-d9459202898b11ea986742010a8a0007\n",
      "beam-temp-stats-e664804a898d11eabf2742010a8a0007\n",
      "beam-temp-stats-eba21db6898c11ea924342010a8a0007\n",
      "beam-temp-stats-fff5dc56898e11ea9e6042010a8a0007\n",
      "stats\n"
     ]
    }
   ],
   "source": [
    "!ls /home/jupyter/artifact_store"
   ]
  },
  {
   "cell_type": "code",
   "execution_count": 3,
   "metadata": {},
   "outputs": [],
   "source": [
    "path = '/home/jupyter/artifact_store/stats'"
   ]
  },
  {
   "cell_type": "code",
   "execution_count": 4,
   "metadata": {},
   "outputs": [
    {
     "name": "stdout",
     "output_type": "stream",
     "text": [
      "WARNING:tensorflow:From /home/jupyter/.local/lib/python3.7/site-packages/tensorflow_data_validation/utils/stats_gen_lib.py:366: tf_record_iterator (from tensorflow.python.lib.io.tf_record) is deprecated and will be removed in a future version.\n",
      "Instructions for updating:\n",
      "Use eager execution and: \n",
      "`tf.data.TFRecordDataset(path)`\n"
     ]
    }
   ],
   "source": [
    "stats = tfdv.load_statistics(path)"
   ]
  },
  {
   "cell_type": "code",
   "execution_count": 5,
   "metadata": {},
   "outputs": [
    {
     "data": {
      "text/html": [
       "<iframe id='facets-iframe' width=\"100%\" height=\"500px\"></iframe>\n",
       "        <script>\n",
       "        facets_iframe = document.getElementById('facets-iframe');\n",
       "        facets_html = '<script src=\"https://cdnjs.cloudflare.com/ajax/libs/webcomponentsjs/1.3.3/webcomponents-lite.js\"><\\/script><link rel=\"import\" href=\"https://raw.githubusercontent.com/PAIR-code/facets/master/facets-dist/facets-jupyter.html\"><facets-overview proto-input=\"CpJiCg5saHNfc3RhdGlzdGljcxCuCRqABBACIugDCrgCCK4JGAEg6QMt5vGmQjKkAhobCQAAAAAAAPA/EQAAAAAAAPA/ITMzMzMz811AGhsJAAAAAAAA8D8RAAAAAAAAAEAhMzMzMzPzXUAaGwkAAAAAAAAAQBEAAAAAAAAAQCEzMzMzM/NdQBobCQAAAAAAAABAEQAAAAAAABBAITMzMzMz811AGhsJAAAAAAAAEEARAAAAAAAAMEAhMzMzMzPzXUAaGwkAAAAAAAAwQBEAAAAAAABAQCEzMzMzM/NdQBobCQAAAAAAAEBAEQAAAAAAAFBAITMzMzMz811AGhsJAAAAAAAAUEARAAAAAAAAYEAhMzMzMzPzXUAaGwkAAAAAAABgQBEAAAAAAABwQCEzMzMzM/NdQBobCQAAAAAAAHBAEQAAAAAAkH5AITMzMzMz811AIAFAoI0GEAQaEBIFUmF3YWgZAAAAAEDv5UAaFBIJQ29tbWFuY2hlGQAAAACAQuVAGhASBUNhY2hlGQAAAAAABLlAGhASBU5lb3RhGQAAAAAADrRAJTC710AqWAoQIgVSYXdhaCkAAAAAQO/lQAoYCAEQASIJQ29tbWFuY2hlKQAAAACAQuVAChQIAhACIgVDYWNoZSkAAAAAAAS5QAoUCAMQAyIFTmVvdGEpAAAAAAAOtEBCEQoPV2lsZGVybmVzc19BcmVhGqsMEAIimQwKuAIIrgkYASDpAy3m8aZCMqQCGhsJAAAAAAAA8D8RAAAAAAAA8D8hMzMzMzPzXUAaGwkAAAAAAADwPxEAAAAAAAAAQCEzMzMzM/NdQBobCQAAAAAAAABAEQAAAAAAAABAITMzMzMz811AGhsJAAAAAAAAAEARAAAAAAAAEEAhMzMzMzPzXUAaGwkAAAAAAAAQQBEAAAAAAAAwQCEzMzMzM/NdQBobCQAAAAAAADBAEQAAAAAAAEBAITMzMzMz811AGhsJAAAAAAAAQEARAAAAAAAAUEAhMzMzMzPzXUAaGwkAAAAAAABQQBEAAAAAAABgQCEzMzMzM/NdQBobCQAAAAAAAGBAEQAAAAAAAHBAITMzMzMz811AGhsJAAAAAAAAcEARAAAAAACQfkAhMzMzMzPzXUAgAUCgjQYQKBoQEgVDNzc0NRkAAAAAQFfTQBoQEgVDNzIwMhkAAAAAAH7DQBoQEgVDNzc1NhkAAAAAAK3BQBoQEgVDNzc1NxkAAAAAAGe+QBoQEgVDNzIwMRkAAAAAAIa2QBoQEgVDNDcwMxkAAAAAAPW1QBoQEgVDNzc0NhkAAAAAAF60QBoQEgVDNDc0NBkAAAAAAOazQBoQEgVDNzc1NRkAAAAAAN+wQBoQEgVDNzcwMBkAAAAAAL6sQBoQEgVDNDc1OBkAAAAAAGCnQBoQEgVDODc3MRkAAAAAAG6lQBoQEgVDODc3MhkAAAAAAJaiQBoQEgVDNDcwNBkAAAAAAM6gQBoQEgVDMjcwNRkAAAAAAFSgQBoQEgVDNzEwMhkAAAAAABiZQBoQEgVDODc3NhkAAAAAAPiXQBoQEgVDMjcwMxkAAAAAAGSUQBoQEgVDMjcxNxkAAAAAAICRQBoQEgVDMjcwNBkAAAAAAECJQCUAAKBAKuwGChAiBUM3NzQ1KQAAAABAV9NAChQIARABIgVDNzIwMikAAAAAAH7DQAoUCAIQAiIFQzc3NTYpAAAAAACtwUAKFAgDEAMiBUM3NzU3KQAAAAAAZ75AChQIBBAEIgVDNzIwMSkAAAAAAIa2QAoUCAUQBSIFQzQ3MDMpAAAAAAD1tUAKFAgGEAYiBUM3NzQ2KQAAAAAAXrRAChQIBxAHIgVDNDc0NCkAAAAAAOazQAoUCAgQCCIFQzc3NTUpAAAAAADfsEAKFAgJEAkiBUM3NzAwKQAAAAAAvqxAChQIChAKIgVDNDc1OCkAAAAAAGCnQAoUCAsQCyIFQzg3NzEpAAAAAABupUAKFAgMEAwiBUM4NzcyKQAAAAAAlqJAChQIDRANIgVDNDcwNCkAAAAAAM6gQAoUCA4QDiIFQzI3MDUpAAAAAABUoEAKFAgPEA8iBUM3MTAyKQAAAAAAGJlAChQIEBAQIgVDODc3NikAAAAAAPiXQAoUCBEQESIFQzI3MDMpAAAAAABklEAKFAgSEBIiBUMyNzE3KQAAAAAAgJFAChQIExATIgVDMjcwNCkAAAAAAECJQAoUCBQQFCIFQzcxMDEpAAAAAACAhUAKFAgVEBUiBUM2MTAyKQAAAAAAOIJAChQIFhAWIgVDMjcwMikAAAAAALiAQAoUCBcQFyIFQzc3MDIpAAAAAADQfUAKFAgYEBgiBUM2MTAxKQAAAAAAYH1AChQIGRAZIgVDNjczMSkAAAAAACB1QAoUCBoQGiIFQzg3MDMpAAAAAABAc0AKFAgbEBsiBUMyNzA2KQAAAAAAkHJAChQIHBAcIgVDNzc5MCkAAAAAAPBwQAoUCB0QHSIFQzQyMDEpAAAAAACAaUAKFAgeEB4iBUM3NzA5KQAAAAAAAGZAChQIHxAfIgVDNzEwMykAAAAAAABkQAoUCCAQICIFQzc3MTApAAAAAADgYEAKFAghECEiBUM1MTAxKQAAAAAAQFpAChQIIhAiIgVDNzcwMSkAAAAAAIBUQAoUCCMQIyIFQzg3MDgpAAAAAACASkAKFAgkECQiBUMzNTAyKQAAAAAAgERAChQIJRAlIgVDODcwNykAAAAAAAA2QAoUCCYQJiIFQzM1MDEpAAAAAAAALkAKFAgnECciBUM1MTUxKQAAAAAAAPA/QgsKCVNvaWxfVHlwZRrEBxq0Bwq4AgiuCRgBIOkDLebxpkIypAIaGwkAAAAAAADwPxEAAAAAAADwPyEzMzMzM/NdQBobCQAAAAAAAPA/EQAAAAAAAABAITMzMzMz811AGhsJAAAAAAAAAEARAAAAAAAAAEAhMzMzMzPzXUAaGwkAAAAAAAAAQBEAAAAAAAAQQCEzMzMzM/NdQBobCQAAAAAAABBAEQAAAAAAADBAITMzMzMz811AGhsJAAAAAAAAMEARAAAAAAAAQEAhMzMzMzPzXUAaGwkAAAAAAABAQBEAAAAAAABQQCEzMzMzM/NdQBobCQAAAAAAAFBAEQAAAAAAAGBAITMzMzMz811AGhsJAAAAAAAAYEARAAAAAAAAcEAhMzMzMzPzXUAaGwkAAAAAAABwQBEAAAAAAJB+QCEzMzMzM/NdQCABQKCNBhGTNeohah6nQBnlyO8Lq4VxQCkAAAAAAAydQDEAAAAAAGinQDkAAAAAACKuQEKiAhobCQAAAAAADJ1AEZqZmZmZFaBAIZfjOI7jSIBAGhsJmpmZmZkVoEARMzMzMzOloUAhU9d1Xdd9nUAaGwkzMzMzM6WhQBHNzMzMzDSjQCF127Zt266tQBobCc3MzMzMNKNAEWZmZmZmxKRAIfT/////471AGhsJZmZmZmbEpEARAAAAAABUpkAhBQAAAADwzkAaGwkAAAAAAFSmQBGamZmZmeOnQCEFAAAAAHndQBobCZqZmZmZ46dAETQzMzMzc6lAIQUAAAAAt9tAGhsJNDMzMzNzqUARzczMzMwCq0AhY2IndmKVxUAaGwnNzMzMzAKrQBFmZmZmZpKsQCEsVphG4peCQBobCWZmZmZmkqxAEQAAAAAAIq5AIVgTjLeyj1dAQqQCGhsJAAAAAAAMnUARAAAAAAAopEAhAAAAAACIw0AaGwkAAAAAACikQBEAAAAAAH6lQCEAAAAAAIjDQBobCQAAAAAAfqVAEQAAAAAAWqZAIQAAAAAAiMNAGhsJAAAAAABapkARAAAAAAD0pkAhAAAAAACIw0AaGwkAAAAAAPSmQBEAAAAAAGinQCEAAAAAAIjDQBobCQAAAAAAaKdAEQAAAAAA5qdAIQAAAAAAiMNAGhsJAAAAAADmp0ARAAAAAAByqEAhAAAAAACIw0AaGwkAAAAAAHKoQBEAAAAAAPqoQCEAAAAAAIjDQBobCQAAAAAA+qhAEQAAAAAAkqlAIQAAAAAAiMNAGhsJAAAAAACSqUARAAAAAAAirkAhAAAAAACIw0AgAUILCglFbGV2YXRpb24aqQcanAcKuAIIrgkYASDpAy3m8aZCMqQCGhsJAAAAAAAA8D8RAAAAAAAA8D8hMzMzMzPzXUAaGwkAAAAAAADwPxEAAAAAAAAAQCEzMzMzM/NdQBobCQAAAAAAAABAEQAAAAAAAABAITMzMzMz811AGhsJAAAAAAAAAEARAAAAAAAAEEAhMzMzMzPzXUAaGwkAAAAAAAAQQBEAAAAAAAAwQCEzMzMzM/NdQBobCQAAAAAAADBAEQAAAAAAAEBAITMzMzMz811AGhsJAAAAAAAAQEARAAAAAAAAUEAhMzMzMzPzXUAaGwkAAAAAAABQQBEAAAAAAABgQCEzMzMzM/NdQBobCQAAAAAAAGBAEQAAAAAAAHBAITMzMzMz811AGhsJAAAAAAAAcEARAAAAAACQfkAhMzMzMzPzXUAgAUCgjQYR24XmOo1sY0AZPq3hc2v4W0AgzQYxAAAAAADAX0A5AAAAAACAdkBCmQIaEhEAAAAAAABCQCEAAAAAAEzNQBobCQAAAAAAAEJAEQAAAAAAAFJAIQAAAAAAqs5AGhsJAAAAAAAAUkARAAAAAAAAW0AhAAAAAAD6yUAaGwkAAAAAAABbQBEAAAAAAABiQCEAAAAAALTEQBobCQAAAAAAAGJAEQAAAAAAgGZAIQAAAAAATL1AGhsJAAAAAACAZkARAAAAAAAAa0AhAAAAAAAAuUAaGwkAAAAAAABrQBEAAAAAAIBvQCEAAAAAAFC0QBobCQAAAAAAgG9AEQAAAAAAAHJAIQAAAAAAcLdAGhsJAAAAAAAAckARAAAAAABAdEAhAAAAAAAwwUAaGwkAAAAAAEB0QBEAAAAAAIB2QCEAAAAAAHbGQEKbAhoSEQAAAAAAADhAIQAAAAAAiMNAGhsJAAAAAAAAOEARAAAAAACAR0AhAAAAAACIw0AaGwkAAAAAAIBHQBEAAAAAAIBRQCEAAAAAAIjDQBobCQAAAAAAgFFAEQAAAAAAAFhAIQAAAAAAiMNAGhsJAAAAAAAAWEARAAAAAADAX0AhAAAAAACIw0AaGwkAAAAAAMBfQBEAAAAAAABlQCEAAAAAAIjDQBobCQAAAAAAAGVAEQAAAAAAIGxAIQAAAAAAiMNAGhsJAAAAAAAgbEARAAAAAAAQckAhAAAAAACIw0AaGwkAAAAAABByQBEAAAAAAJB0QCEAAAAAAIjDQBobCQAAAAAAkHRAEQAAAAAAgHZAIQAAAAAAiMNAIAFCCAoGQXNwZWN0GqcHGpsHCrgCCK4JGAEg6QMt5vGmQjKkAhobCQAAAAAAAPA/EQAAAAAAAPA/ITMzMzMz811AGhsJAAAAAAAA8D8RAAAAAAAAAEAhMzMzMzPzXUAaGwkAAAAAAAAAQBEAAAAAAAAAQCEzMzMzM/NdQBobCQAAAAAAAABAEQAAAAAAABBAITMzMzMz811AGhsJAAAAAAAAEEARAAAAAAAAMEAhMzMzMzPzXUAaGwkAAAAAAAAwQBEAAAAAAABAQCEzMzMzM/NdQBobCQAAAAAAAEBAEQAAAAAAAFBAITMzMzMz811AGhsJAAAAAAAAUEARAAAAAAAAYEAhMzMzMzPzXUAaGwkAAAAAAABgQBEAAAAAAABwQCEzMzMzM/NdQBobCQAAAAAAAHBAEQAAAAAAkH5AITMzMzMz811AIAFAoI0GEbb4FADjKSxAGX126yuL4B1AIGsxAAAAAAAAKkA5AAAAAABAUEBCmQIaEhEAAAAAAAAaQCEAAAAAAM/MQBobCQAAAAAAABpAEQAAAAAAACpAIQAAAACA+99AGhsJAAAAAAAAKkARAAAAAACAM0AhAAAAAIBr3kAaGwkAAAAAAIAzQBEAAAAAAAA6QCEAAAAAAEvJQBobCQAAAAAAADpAEQAAAAAAQEBAIQAAAAAAzrhAGhsJAAAAAABAQEARAAAAAACAQ0AhAAAAAABYm0AaGwkAAAAAAIBDQBEAAAAAAMBGQCF605ve9OZqQBobCQAAAAAAwEZAEQAAAAAAAEpAIWQhC1nIQjxAGhsJAAAAAAAASkARAAAAAABATUAhZCELWchCPEAaGwkAAAAAAEBNQBEAAAAAAEBQQCFkIQtZyEI8QEKbAhoSEQAAAAAAABRAIQAAAAAAiMNAGhsJAAAAAAAAFEARAAAAAAAAIEAhAAAAAACIw0AaGwkAAAAAAAAgQBEAAAAAAAAkQCEAAAAAAIjDQBobCQAAAAAAACRAEQAAAAAAACZAIQAAAAAAiMNAGhsJAAAAAAAAJkARAAAAAAAAKkAhAAAAAACIw0AaGwkAAAAAAAAqQBEAAAAAAAAuQCEAAAAAAIjDQBobCQAAAAAAAC5AEQAAAAAAADFAIQAAAAAAiMNAGhsJAAAAAAAAMUARAAAAAAAANEAhAAAAAACIw0AaGwkAAAAAAAA0QBEAAAAAAAA4QCEAAAAAAIjDQBobCQAAAAAAADhAEQAAAAAAQFBAIQAAAAAAiMNAIAFCBwoFU2xvcGUawwcanAcKuAIIrgkYASDpAy3m8aZCMqQCGhsJAAAAAAAA8D8RAAAAAAAA8D8hMzMzMzPzXUAaGwkAAAAAAADwPxEAAAAAAAAAQCEzMzMzM/NdQBobCQAAAAAAAABAEQAAAAAAAABAITMzMzMz811AGhsJAAAAAAAAAEARAAAAAAAAEEAhMzMzMzPzXUAaGwkAAAAAAAAQQBEAAAAAAAAwQCEzMzMzM/NdQBobCQAAAAAAADBAEQAAAAAAAEBAITMzMzMz811AGhsJAAAAAAAAQEARAAAAAAAAUEAhMzMzMzPzXUAaGwkAAAAAAABQQBEAAAAAAABgQCEzMzMzM/NdQBobCQAAAAAAAGBAEQAAAAAAAHBAITMzMzMz811AGhsJAAAAAAAAcEARAAAAAACQfkAhMzMzMzPzXUAgAUCgjQYRSYCaWrbKcEAZakJGZbKGakAg5SAxAAAAAABAa0A5AAAAAADUlUBCmQIaEhFmZmZmZnZhQCEAAAAAdAjgQBobCWZmZmZmdmFAEWZmZmZmdnFAIQAAAAAYDttAGhsJZmZmZmZ2cUARmZmZmZkxekAhAAAAAMDJ0UAaGwmZmZmZmTF6QBFmZmZmZnaBQCEAAAAAgKbFQBobCWZmZmZmdoFAEQAAAAAA1IVAIQIAAAAA0bVAGhsJAAAAAADUhUARmZmZmZkxikAhG8dxHMenpEAaGwmZmZmZmTGKQBEyMzMzM4+OQCHGcRzHccSSQBobCTIzMzMzj45AEWZmZmZmdpFAIQUAAAAAQIBAGhsJZmZmZmZ2kUARMzMzMzOlk0AhKNjoXZF5YUAaGwkzMzMzM6WTQBEAAAAAANSVQCHETy5E3YxRQEKbAhoSEQAAAAAAAD5AIQAAAAAAiMNAGhsJAAAAAAAAPkARAAAAAABAVUAhAAAAAACIw0AaGwkAAAAAAEBVQBEAAAAAAABfQCEAAAAAAIjDQBobCQAAAAAAAF9AEQAAAAAA4GVAIQAAAAAAiMNAGhsJAAAAAADgZUARAAAAAABAa0AhAAAAAACIw0AaGwkAAAAAAEBrQBEAAAAAAFBxQCEAAAAAAIjDQBobCQAAAAAAUHFAEQAAAAAAYHVAIQAAAAAAiMNAGhsJAAAAAABgdUARAAAAAADgekAhAAAAAACIw0AaGwkAAAAAAOB6QBEAAAAAAKCBQCEAAAAAAIjDQBobCQAAAAAAoIFAEQAAAAAA1JVAIQAAAAAAiMNAIAFCIgogSG9yaXpvbnRhbF9EaXN0YW5jZV9Ub19IeWRyb2xvZ3kaygcapQcKuAIIrgkYASDpAy3m8aZCMqQCGhsJAAAAAAAA8D8RAAAAAAAA8D8hMzMzMzPzXUAaGwkAAAAAAADwPxEAAAAAAAAAQCEzMzMzM/NdQBobCQAAAAAAAABAEQAAAAAAAABAITMzMzMz811AGhsJAAAAAAAAAEARAAAAAAAAEEAhMzMzMzPzXUAaGwkAAAAAAAAQQBEAAAAAAAAwQCEzMzMzM/NdQBobCQAAAAAAADBAEQAAAAAAAEBAITMzMzMz811AGhsJAAAAAAAAQEARAAAAAAAAUEAhMzMzMzPzXUAaGwkAAAAAAABQQBEAAAAAAABgQCEzMzMzM/NdQBobCQAAAAAAAGBAEQAAAAAAAHBAITMzMzMz811AGhsJAAAAAAAAcEARAAAAAACQfkAhMzMzMzPzXUAgAUCgjQYRaOif4GIZR0AZRRH8fH7dTEAgmTQpAAAAAADAZMAxAAAAAAAAPUA5AAAAAADIgkBCogIaGwkAAAAAAMBkwBEzMzMzM1NWwCEAAAAAANBjQBobCTMzMzMzU1bAETAzMzMzMynAIQEAAAAA+6tAGhsJMDMzMzMzKcARaGZmZmYGUEAhAAAAAKDv8EAaGwloZmZmZgZQQBGamZmZmZlhQCH/////fxzTQBobCZqZmZmZmWFAEQAAAAAAMGtAIVRVVVVV47VAGhsJAAAAAAAwa0ARNDMzMzNjckAhrKqqqqqXlEAaGwk0MzMzM2NyQBFmZmZmZi53QCHyG2X3G+FyQBobCWZmZmZmLndAEZqZmZmZ+XtAIcQKncEKHUBAGhsJmpmZmZn5e0ARZ2ZmZmZigEAhxAqdwQodQEAaGwlnZmZmZmKAQBEAAAAAAMiCQCG9Cp3BCh1AQEKSAhoSCQAAAAAAwGTAIQAAAAAAiMNAGhIRAAAAAAAACEAhAAAAAACIw0AaGwkAAAAAAAAIQBEAAAAAAAAkQCEAAAAAAIjDQBobCQAAAAAAACRAEQAAAAAAADNAIQAAAAAAiMNAGhsJAAAAAAAAM0ARAAAAAAAAPUAhAAAAAACIw0AaGwkAAAAAAAA9QBEAAAAAAABFQCEAAAAAAIjDQBobCQAAAAAAAEVAEQAAAAAAAE1AIQAAAAAAiMNAGhsJAAAAAAAATUARAAAAAABAVEAhAAAAAACIw0AaGwkAAAAAAEBUQBEAAAAAAEBeQCEAAAAAAIjDQBobCQAAAAAAQF5AEQAAAAAAyIJAIQAAAAAAiMNAIAFCIAoeVmVydGljYWxfRGlzdGFuY2VfVG9fSHlkcm9sb2d5GsEHGpsHCrgCCK4JGAEg6QMt5vGmQjKkAhobCQAAAAAAAPA/EQAAAAAAAPA/ITMzMzMz811AGhsJAAAAAAAA8D8RAAAAAAAAAEAhMzMzMzPzXUAaGwkAAAAAAAAAQBEAAAAAAAAAQCEzMzMzM/NdQBobCQAAAAAAAABAEQAAAAAAABBAITMzMzMz811AGhsJAAAAAAAAEEARAAAAAAAAMEAhMzMzMzPzXUAaGwkAAAAAAAAwQBEAAAAAAABAQCEzMzMzM/NdQBobCQAAAAAAAEBAEQAAAAAAAFBAITMzMzMz811AGhsJAAAAAAAAUEARAAAAAAAAYEAhMzMzMzPzXUAaGwkAAAAAAABgQBEAAAAAAABwQCEzMzMzM/NdQBobCQAAAAAAAHBAEQAAAAAAkH5AITMzMzMz811AIAFAoI0GEcIXJlPlY6JAGRZaTYeFYJhAIBMxAAAAAAA4n0A5AAAAAACmu0BCmQIaEhFmZmZmZh6GQCHjOI7jOFLJQBobCWZmZmZmHoZAEWZmZmZmHpZAIY7jOI5jVdVAGhsJZmZmZmYelkARzMzMzMyWoEAh/v///3+g0UAaGwnMzMzMzJagQBFmZmZmZh6mQCEDAAAAAArLQBobCWZmZmZmHqZAEQAAAAAApqtAIQIAAABAZ8VAGhsJAAAAAACmq0ARzMzMzMyWsEAhnIsuumhUvUAaGwnMzMzMzJawQBGZmZmZmVqzQCELH3zwwfe2QBobCZmZmZmZWrNAEWZmZmZmHrZAIZEGaZAGdbRAGhsJZmZmZmYetkARMzMzMzPiuEAh5fIt3/ILqkAaGwkzMzMzM+K4QBEAAAAAAKa7QCFZVVVVVaV3QEKbAhoSEQAAAAAAkIJAIQAAAAAAiMNAGhsJAAAAAACQgkARAAAAAACojUAhAAAAAACIw0AaGwkAAAAAAKiNQBEAAAAAALiTQCEAAAAAAIjDQBobCQAAAAAAuJNAEQAAAAAA9JhAIQAAAAAAiMNAGhsJAAAAAAD0mEARAAAAAAA4n0AhAAAAAACIw0AaGwkAAAAAADifQBEAAAAAAEajQCEAAAAAAIjDQBobCQAAAAAARqNAEQAAAAAAlqdAIQAAAAAAiMNAGhsJAAAAAACWp0ARAAAAAAA+rUAhAAAAAACIw0AaGwkAAAAAAD6tQBEAAAAAAMWyQCEAAAAAAIjDQBobCQAAAAAAxbJAEQAAAAAAprtAIQAAAAAAiMNAIAFCIQofSG9yaXpvbnRhbF9EaXN0YW5jZV9Ub19Sb2Fkd2F5cxqvBxqbBwq4AgiuCRgBIOkDLebxpkIypAIaGwkAAAAAAADwPxEAAAAAAADwPyEzMzMzM/NdQBobCQAAAAAAAPA/EQAAAAAAAABAITMzMzMz811AGhsJAAAAAAAAAEARAAAAAAAAAEAhMzMzMzPzXUAaGwkAAAAAAAAAQBEAAAAAAAAQQCEzMzMzM/NdQBobCQAAAAAAABBAEQAAAAAAADBAITMzMzMz811AGhsJAAAAAAAAMEARAAAAAAAAQEAhMzMzMzPzXUAaGwkAAAAAAABAQBEAAAAAAABQQCEzMzMzM/NdQBobCQAAAAAAAFBAEQAAAAAAAGBAITMzMzMz811AGhsJAAAAAAAAYEARAAAAAAAAcEAhMzMzMzPzXUAaGwkAAAAAAABwQBEAAAAAAJB+QCEzMzMzM/NdQCABQKCNBhGU9gZfmIVqQBlvd9TPx706QCACMQAAAAAAQGtAOQAAAAAAwG9AQpkCGhIRZmZmZmZmOUAh6k1vetObO0AaGwlmZmZmZmY5QBFmZmZmZmZJQCHqTW9605s7QBobCWZmZmZmZklAEczMzMzMDFNAIedNb3rTmztAGhsJzMzMzMwMU0ARZmZmZmZmWUAhjoUsZCFLXEAaGwlmZmZmZmZZQBEAAAAAAMBfQCGrqqqqqiqKQBobCQAAAAAAwF9AEczMzMzMDGNAIVBVVVVVXaRAGhsJzMzMzMwMY0ARmZmZmZk5ZkAhAAAAAAAcu0AaGwmZmZmZmTlmQBFmZmZmZmZpQCEAAAAAAEfTQBobCWZmZmZmZmlAETMzMzMzk2xAIQAAAAAAQuNAGhsJMzMzMzOTbEARAAAAAADAb0AhAAAAAACI3UBCmwIaEhEAAAAAAABmQCEAAAAAAIjDQBobCQAAAAAAAGZAEQAAAAAAIGhAIQAAAAAAiMNAGhsJAAAAAAAgaEARAAAAAABgaUAhAAAAAACIw0AaGwkAAAAAAGBpQBEAAAAAAGBqQCEAAAAAAIjDQBobCQAAAAAAYGpAEQAAAAAAQGtAIQAAAAAAiMNAGhsJAAAAAABAa0ARAAAAAADga0AhAAAAAACIw0AaGwkAAAAAAOBrQBEAAAAAAKBsQCEAAAAAAIjDQBobCQAAAAAAoGxAEQAAAAAAQG1AIQAAAAAAiMNAGhsJAAAAAABAbUARAAAAAAAgbkAhAAAAAACIw0AaGwkAAAAAACBuQBEAAAAAAMBvQCEAAAAAAIjDQCABQg8KDUhpbGxzaGFkZV85YW0asAcamwcKuAIIrgkYASDpAy3m8aZCMqQCGhsJAAAAAAAA8D8RAAAAAAAA8D8hMzMzMzPzXUAaGwkAAAAAAADwPxEAAAAAAAAAQCEzMzMzM/NdQBobCQAAAAAAAABAEQAAAAAAAABAITMzMzMz811AGhsJAAAAAAAAAEARAAAAAAAAEEAhMzMzMzPzXUAaGwkAAAAAAAAQQBEAAAAAAAAwQCEzMzMzM/NdQBobCQAAAAAAADBAEQAAAAAAAEBAITMzMzMz811AGhsJAAAAAAAAQEARAAAAAAAAUEAhMzMzMzPzXUAaGwkAAAAAAABQQBEAAAAAAABgQCEzMzMzM/NdQBobCQAAAAAAAGBAEQAAAAAAAHBAITMzMzMz811AGhsJAAAAAAAAcEARAAAAAACQfkAhMzMzMzPzXUAgAUCgjQYRS5NS0O3pa0AZazT+fBrCM0AgATEAAAAAAEBsQDkAAAAAAMBvQEKZAhoSEWZmZmZmZjlAIT744IMPPjNAGhsJZmZmZmZmOUARZmZmZmZmSUAhPvjggw8+M0AaGwlmZmZmZmZJQBHMzMzMzAxTQCE8+OCDDz4zQBobCczMzMzMDFNAEWZmZmZmZllAIT/44IMPPjNAGhsJZmZmZmZmWUARAAAAAADAX0AhP/jggw8+M0AaGwkAAAAAAMBfQBHMzMzMzAxjQCG1Bx988BF6QBobCczMzMzMDGNAEZmZmZmZOWZAIVNVVVVVRaNAGhsJmZmZmZk5ZkARZmZmZmZmaUAhAAAAAADCxUAaGwlmZmZmZmZpQBEzMzMzM5NsQCEAAAAAgEjkQBobCTMzMzMzk2xAEQAAAAAAwG9AIQAAAACApuVAQpsCGhIRAAAAAADAaEAhAAAAAACIw0AaGwkAAAAAAMBoQBEAAAAAACBqQCEAAAAAAIjDQBobCQAAAAAAIGpAEQAAAAAAAGtAIQAAAAAAiMNAGhsJAAAAAAAAa0ARAAAAAACga0AhAAAAAACIw0AaGwkAAAAAAKBrQBEAAAAAAEBsQCEAAAAAAIjDQBobCQAAAAAAQGxAEQAAAAAAwGxAIQAAAAAAiMNAGhsJAAAAAADAbEARAAAAAABgbUAhAAAAAACIw0AaGwkAAAAAAGBtQBEAAAAAAABuQCEAAAAAAIjDQBobCQAAAAAAAG5AEQAAAAAA4G5AIQAAAAAAiMNAGhsJAAAAAADgbkARAAAAAADAb0AhAAAAAACIw0AgAUIQCg5IaWxsc2hhZGVfTm9vbhqwBxqcBwq4AgiuCRgBIOkDLebxpkIypAIaGwkAAAAAAADwPxEAAAAAAADwPyEzMzMzM/NdQBobCQAAAAAAAPA/EQAAAAAAAABAITMzMzMz811AGhsJAAAAAAAAAEARAAAAAAAAAEAhMzMzMzPzXUAaGwkAAAAAAAAAQBEAAAAAAAAQQCEzMzMzM/NdQBobCQAAAAAAABBAEQAAAAAAADBAITMzMzMz811AGhsJAAAAAAAAMEARAAAAAAAAQEAhMzMzMzPzXUAaGwkAAAAAAABAQBEAAAAAAABQQCEzMzMzM/NdQBobCQAAAAAAAFBAEQAAAAAAAGBAITMzMzMz811AGhsJAAAAAAAAYEARAAAAAAAAcEAhMzMzMzPzXUAaGwkAAAAAAABwQBEAAAAAAJB+QCEzMzMzM/NdQCABQKCNBhG1iZP7HdBhQBnAaV4hphNDQCDLATEAAAAAAOBhQDkAAAAAAKBvQEKZAhoSEc3MzMzMTDlAIQAAAAAAmHxAGhsJzczMzMxMOUARzczMzMxMSUAhAAAAAADCkEAaGwnNzMzMzExJQBGamZmZmflSQCEBAAAAAOinQBobCZqZmZmZ+VJAEc3MzMzMTFlAIQAAAAAAE8BAGhsJzczMzMxMWUARAAAAAACgX0AhAAAAAICu0kAaGwkAAAAAAKBfQBGamZmZmfliQCEAAAAAgF/bQBobCZqZmZmZ+WJAETMzMzMzI2ZAIQAAAACAONVAGhsJMzMzMzMjZkARzczMzMxMaUAhAAAAAAAPyUAaGwnNzMzMzExpQBFnZmZmZnZsQCEBAAAAABayQBobCWdmZmZmdmxAEQAAAAAAoG9AIfH/////74lAQpsCGhIRAAAAAADAV0AhAAAAAACIw0AaGwkAAAAAAMBXQBEAAAAAAEBcQCEAAAAAAIjDQBobCQAAAAAAQFxAEQAAAAAAQF9AIQAAAAAAiMNAGhsJAAAAAABAX0ARAAAAAADAYEAhAAAAAACIw0AaGwkAAAAAAMBgQBEAAAAAAOBhQCEAAAAAAIjDQBobCQAAAAAA4GFAEQAAAAAAAGNAIQAAAAAAiMNAGhsJAAAAAAAAY0ARAAAAAABAZEAhAAAAAACIw0AaGwkAAAAAAEBkQBEAAAAAAOBlQCEAAAAAAIjDQBobCQAAAAAA4GVAEQAAAAAA4GdAIQAAAAAAiMNAGhsJAAAAAADgZ0ARAAAAAACgb0AhAAAAAACIw0AgAUIPCg1IaWxsc2hhZGVfM3BtGsQHGpsHCrgCCK4JGAEg6QMt5vGmQjKkAhobCQAAAAAAAPA/EQAAAAAAAPA/ITMzMzMz811AGhsJAAAAAAAA8D8RAAAAAAAAAEAhMzMzMzPzXUAaGwkAAAAAAAAAQBEAAAAAAAAAQCEzMzMzM/NdQBobCQAAAAAAAABAEQAAAAAAABBAITMzMzMz811AGhsJAAAAAAAAEEARAAAAAAAAMEAhMzMzMzPzXUAaGwkAAAAAAAAwQBEAAAAAAABAQCEzMzMzM/NdQBobCQAAAAAAAEBAEQAAAAAAAFBAITMzMzMz811AGhsJAAAAAAAAUEARAAAAAAAAYEAhMzMzMzPzXUAaGwkAAAAAAABgQBEAAAAAAABwQCEzMzMzM/NdQBobCQAAAAAAAHBAEQAAAAAAkH5AITMzMzMz811AIAFAoI0GEdqPFJEB7J5AGVuLw/xRtJRAIAcxAAAAAAC4mkA5AAAAAADuu0BCmQIaEhEAAAAAAFiGQCElSZIkSTTLQBobCQAAAAAAWIZAEQAAAAAAWJZAIW7btm3bjtlAGhsJAAAAAABYlkARAAAAAADCoEAhAAAAAIAx10AaGwkAAAAAAMKgQBEAAAAAAFimQCFVVVVV1ajRQBobCQAAAAAAWKZAEQAAAAAA7qtAIcZ0FtNZ5LtAGhsJAAAAAADuq0ARAAAAAADCsEAh+SURUi1fq0AaGwkAAAAAAMKwQBEAAAAAAI2zQCHRRRdddIWkQBobCQAAAAAAjbNAEQAAAAAAWLZAIfJZN5gir6FAGhsJAAAAAABYtkARAAAAAAAjuUAhTVhUAMcMn0AaGwkAAAAAACO5QBEAAAAAAO67QCGe53me5wmBQEKbAhoSEQAAAAAAgIJAIQAAAAAAiMNAGhsJAAAAAACAgkARAAAAAACwi0AhAAAAAACIw0AaGwkAAAAAALCLQBEAAAAAADSSQCEAAAAAAIjDQBobCQAAAAAANJJAEQAAAAAARJZAIQAAAAAAiMNAGhsJAAAAAABElkARAAAAAAC4mkAhAAAAAACIw0AaGwkAAAAAALiaQBEAAAAAAISfQCEAAAAAAIjDQBobCQAAAAAAhJ9AEQAAAAAAdKJAIQAAAAAAiMNAGhsJAAAAAAB0okARAAAAAACOpUAhAAAAAACIw0AaGwkAAAAAAI6lQBEAAAAAAE6tQCEAAAAAAIjDQBobCQAAAAAATq1AEQAAAAAA7rtAIQAAAAAAiMNAIAFCJAoiSG9yaXpvbnRhbF9EaXN0YW5jZV9Ub19GaXJlX1BvaW50cxr4BhrnBgq4AgiuCRgBIOkDLebxpkIypAIaGwkAAAAAAADwPxEAAAAAAADwPyEzMzMzM/NdQBobCQAAAAAAAPA/EQAAAAAAAABAITMzMzMz811AGhsJAAAAAAAAAEARAAAAAAAAAEAhMzMzMzPzXUAaGwkAAAAAAAAAQBEAAAAAAAAQQCEzMzMzM/NdQBobCQAAAAAAABBAEQAAAAAAADBAITMzMzMz811AGhsJAAAAAAAAMEARAAAAAAAAQEAhMzMzMzPzXUAaGwkAAAAAAABAQBEAAAAAAABQQCEzMzMzM/NdQBobCQAAAAAAAFBAEQAAAAAAAGBAITMzMzMz811AGhsJAAAAAAAAYEARAAAAAAAAcEAhMzMzMzPzXUAaGwkAAAAAAABwQBEAAAAAAJB+QCEzMzMzM/NdQCABQKCNBhGJXkax3NLwPxk6w8F3D1j2PyDsnAIxAAAAAAAA8D85AAAAAAAAGEBCmQIaEhEzMzMzMzPjPyEAAAAAgM3hQBobCTMzMzMzM+M/ETMzMzMzM/M/IQAAAAAAz+dAGhsJMzMzMzMz8z8RzMzMzMzM/D8h/v//////TUAaGwnMzMzMzMz8PxEzMzMzMzMDQCEAAAAAAKy3QBobCTMzMzMzMwNAEQAAAAAAAAhAIQEAAAAAAE5AGhsJAAAAAAAACEARzMzMzMzMDEAh//////+/fEAaGwnMzMzMzMwMQBHNzMzMzMwQQCEAAAAAAGCYQBobCc3MzMzMzBBAETMzMzMzMxNAIfv//////01AGhsJMzMzMzMzE0ARmZmZmZmZFUAhAAAAAAAgp0AaGwmZmZmZmZkVQBEAAAAAAAAYQCEAAAAAANCrQELlARoJIQAAAAAAiMNAGgkhAAAAAACIw0AaCSEAAAAAAIjDQBoSEQAAAAAAAPA/IQAAAAAAiMNAGhsJAAAAAAAA8D8RAAAAAAAA8D8hAAAAAACIw0AaGwkAAAAAAADwPxEAAAAAAADwPyEAAAAAAIjDQBobCQAAAAAAAPA/EQAAAAAAAPA/IQAAAAAAiMNAGhsJAAAAAAAA8D8RAAAAAAAA8D8hAAAAAACIw0AaGwkAAAAAAADwPxEAAAAAAAAAQCEAAAAAAIjDQBobCQAAAAAAAABAEQAAAAAAABhAIQAAAAAAiMNAIAFCDAoKQ292ZXJfVHlwZQ==\"></facets-overview>';\n",
       "        facets_iframe.srcdoc = facets_html;\n",
       "         facets_iframe.id = \"\";\n",
       "         setTimeout(() => {\n",
       "           facets_iframe.setAttribute('height', facets_iframe.contentWindow.document.body.offsetHeight + 'px')\n",
       "         }, 1500)\n",
       "         </script>"
      ],
      "text/plain": [
       "<IPython.core.display.HTML object>"
      ]
     },
     "metadata": {},
     "output_type": "display_data"
    }
   ],
   "source": [
    "tfdv.visualize_statistics(stats)"
   ]
  },
  {
   "cell_type": "code",
   "execution_count": 6,
   "metadata": {},
   "outputs": [
    {
     "data": {
      "text/plain": [
       "'0.21.5'"
      ]
     },
     "execution_count": 6,
     "metadata": {},
     "output_type": "execute_result"
    }
   ],
   "source": [
    "tfdv.__version__"
   ]
  },
  {
   "cell_type": "code",
   "execution_count": null,
   "metadata": {},
   "outputs": [],
   "source": []
  }
 ],
 "metadata": {
  "kernelspec": {
   "display_name": "Python 3",
   "language": "python",
   "name": "python3"
  },
  "language_info": {
   "codemirror_mode": {
    "name": "ipython",
    "version": 3
   },
   "file_extension": ".py",
   "mimetype": "text/x-python",
   "name": "python",
   "nbconvert_exporter": "python",
   "pygments_lexer": "ipython3",
   "version": "3.7.6"
  }
 },
 "nbformat": 4,
 "nbformat_minor": 4
}
