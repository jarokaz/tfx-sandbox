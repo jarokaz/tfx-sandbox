{
 "cells": [
  {
   "cell_type": "markdown",
   "metadata": {
    "colab_type": "text",
    "id": "sj_pbQzwpiUS"
   },
   "source": [
    "# Simulating Requests to an AI Prediction Deployed Model\n",
    "\n"
   ]
  },
  {
   "cell_type": "markdown",
   "metadata": {
    "colab_type": "text",
    "id": "NDOuIyjJpxQa"
   },
   "source": [
    "## Setup"
   ]
  },
  {
   "cell_type": "code",
   "execution_count": 1,
   "metadata": {
    "colab": {},
    "colab_type": "code",
    "id": "1Kgv1ijYI3bV"
   },
   "outputs": [],
   "source": [
    "import os\n",
    "from tensorflow import io as tf_io\n",
    "import matplotlib.pyplot as plt\n",
    "import numpy as np"
   ]
  },
  {
   "cell_type": "code",
   "execution_count": 2,
   "metadata": {
    "colab": {},
    "colab_type": "code",
    "id": "w3SMI1H_DknU"
   },
   "outputs": [],
   "source": [
    "PROJECT = 'mlops-dev-env'\n",
    "BUCKET =  'mlops-dev-workspace'\n",
    "GCS_DATA_LOCATION = 'gs://workshop-datasets/covertype/data_validation'\n",
    "REGION = 'us-central1'\n",
    "LOCAL_WORKSPACE = './workspace'\n",
    "LOCAL_DATA_DIR = os.path.join(LOCAL_WORKSPACE, 'data')\n",
    "LOCAL_DATA_FILE = os.path.join(LOCAL_DATA_DIR, 'train.csv')\n",
    "BQ_DATASET_NAME = 'data_validation'\n",
    "BQ_TABLE_NAME = 'covertype_classifier_logs_tf'\n",
    "MODEL_NAME = 'covertype_classifier_tf'\n",
    "VERSION_NAME = 'v2'\n",
    "MODEL_OUTPUT_KEY = 'probabilities'\n",
    "SIGNATURE_NAME = 'serving_default'"
   ]
  },
  {
   "cell_type": "code",
   "execution_count": 3,
   "metadata": {
    "colab": {},
    "colab_type": "code",
    "id": "AaibI_P_Dwdz"
   },
   "outputs": [
    {
     "name": "stdout",
     "output_type": "stream",
     "text": [
      "Updated property [core/project].\n"
     ]
    }
   ],
   "source": [
    "!gcloud config set project {PROJECT}"
   ]
  },
  {
   "cell_type": "markdown",
   "metadata": {
    "colab_type": "text",
    "id": "8tH1C0Yjp1Rw"
   },
   "source": [
    "## 1. Download Data\n",
    "\n",
    "We use the [covertype](https://archive.ics.uci.edu/ml/datasets/covertype) from UCI Machine Learning Repository. The task is to Predict forest cover type from cartographic variables only. \n",
    "\n",
    "The dataset is preprocessed, split, and uploaded to uploaded to the `gs://workshop-datasets/covertype` public GCS location. \n",
    "\n",
    "We use this version of the preprocessed dataset in this notebook. For more information, see [Cover Type Dataset](https://github.com/GoogleCloudPlatform/mlops-on-gcp/tree/master/datasets/covertype)"
   ]
  },
  {
   "cell_type": "code",
   "execution_count": 4,
   "metadata": {
    "colab": {},
    "colab_type": "code",
    "id": "mPyEIzdTD1p0"
   },
   "outputs": [
    {
     "name": "stdout",
     "output_type": "stream",
     "text": [
      "Creating a new workspace...\n"
     ]
    }
   ],
   "source": [
    "if tf_io.gfile.exists(LOCAL_WORKSPACE):\n",
    "  print(\"Removing previous workspace artifacts...\")\n",
    "  tf_io.gfile.rmtree(LOCAL_WORKSPACE)\n",
    "\n",
    "print(\"Creating a new workspace...\")\n",
    "tf_io.gfile.makedirs(LOCAL_WORKSPACE)\n",
    "tf_io.gfile.makedirs(LOCAL_DATA_DIR)"
   ]
  },
  {
   "cell_type": "code",
   "execution_count": 5,
   "metadata": {
    "colab": {},
    "colab_type": "code",
    "id": "YDVDp0STEKB9"
   },
   "outputs": [
    {
     "name": "stdout",
     "output_type": "stream",
     "text": [
      "Copying gs://workshop-datasets/covertype/data_validation/training/dataset.csv...\n",
      "/ [1 files][ 22.2 MiB/ 22.2 MiB]                                                \n",
      "Operation completed over 1 objects/22.2 MiB.                                     \n",
      "431010 ./workspace/data/train.csv\n"
     ]
    }
   ],
   "source": [
    "!gsutil cp gs://workshop-datasets/covertype/data_validation/training/dataset.csv {LOCAL_DATA_FILE}\n",
    "!wc -l {LOCAL_DATA_FILE}"
   ]
  },
  {
   "cell_type": "code",
   "execution_count": 6,
   "metadata": {
    "colab": {},
    "colab_type": "code",
    "id": "zbDx6WekEKZP"
   },
   "outputs": [
    {
     "name": "stdout",
     "output_type": "stream",
     "text": [
      "Total number of records: 431009\n"
     ]
    },
    {
     "data": {
      "text/html": [
       "<div>\n",
       "<style scoped>\n",
       "    .dataframe tbody tr th:only-of-type {\n",
       "        vertical-align: middle;\n",
       "    }\n",
       "\n",
       "    .dataframe tbody tr th {\n",
       "        vertical-align: top;\n",
       "    }\n",
       "\n",
       "    .dataframe thead th {\n",
       "        text-align: right;\n",
       "    }\n",
       "</style>\n",
       "<table border=\"1\" class=\"dataframe\">\n",
       "  <thead>\n",
       "    <tr style=\"text-align: right;\">\n",
       "      <th></th>\n",
       "      <th>142538</th>\n",
       "      <th>179198</th>\n",
       "      <th>417758</th>\n",
       "      <th>307904</th>\n",
       "      <th>308836</th>\n",
       "      <th>315787</th>\n",
       "      <th>388750</th>\n",
       "      <th>125211</th>\n",
       "      <th>315673</th>\n",
       "      <th>336480</th>\n",
       "    </tr>\n",
       "  </thead>\n",
       "  <tbody>\n",
       "    <tr>\n",
       "      <th>Elevation</th>\n",
       "      <td>3225</td>\n",
       "      <td>2876</td>\n",
       "      <td>2563</td>\n",
       "      <td>3149</td>\n",
       "      <td>2827</td>\n",
       "      <td>2511</td>\n",
       "      <td>3184</td>\n",
       "      <td>3195</td>\n",
       "      <td>3029</td>\n",
       "      <td>3021</td>\n",
       "    </tr>\n",
       "    <tr>\n",
       "      <th>Aspect</th>\n",
       "      <td>148</td>\n",
       "      <td>119</td>\n",
       "      <td>2</td>\n",
       "      <td>91</td>\n",
       "      <td>22</td>\n",
       "      <td>167</td>\n",
       "      <td>157</td>\n",
       "      <td>194</td>\n",
       "      <td>104</td>\n",
       "      <td>0</td>\n",
       "    </tr>\n",
       "    <tr>\n",
       "      <th>Slope</th>\n",
       "      <td>10</td>\n",
       "      <td>10</td>\n",
       "      <td>14</td>\n",
       "      <td>11</td>\n",
       "      <td>10</td>\n",
       "      <td>31</td>\n",
       "      <td>2</td>\n",
       "      <td>10</td>\n",
       "      <td>20</td>\n",
       "      <td>9</td>\n",
       "    </tr>\n",
       "    <tr>\n",
       "      <th>Horizontal_Distance_To_Hydrology</th>\n",
       "      <td>150</td>\n",
       "      <td>361</td>\n",
       "      <td>95</td>\n",
       "      <td>30</td>\n",
       "      <td>150</td>\n",
       "      <td>323</td>\n",
       "      <td>390</td>\n",
       "      <td>108</td>\n",
       "      <td>30</td>\n",
       "      <td>228</td>\n",
       "    </tr>\n",
       "    <tr>\n",
       "      <th>Vertical_Distance_To_Hydrology</th>\n",
       "      <td>12</td>\n",
       "      <td>56</td>\n",
       "      <td>26</td>\n",
       "      <td>6</td>\n",
       "      <td>16</td>\n",
       "      <td>127</td>\n",
       "      <td>52</td>\n",
       "      <td>20</td>\n",
       "      <td>-8</td>\n",
       "      <td>24</td>\n",
       "    </tr>\n",
       "    <tr>\n",
       "      <th>Horizontal_Distance_To_Roadways</th>\n",
       "      <td>5825</td>\n",
       "      <td>2259</td>\n",
       "      <td>690</td>\n",
       "      <td>4654</td>\n",
       "      <td>1398</td>\n",
       "      <td>335</td>\n",
       "      <td>1146</td>\n",
       "      <td>3049</td>\n",
       "      <td>655</td>\n",
       "      <td>2659</td>\n",
       "    </tr>\n",
       "    <tr>\n",
       "      <th>Hillshade_9am</th>\n",
       "      <td>234</td>\n",
       "      <td>237</td>\n",
       "      <td>200</td>\n",
       "      <td>237</td>\n",
       "      <td>214</td>\n",
       "      <td>228</td>\n",
       "      <td>221</td>\n",
       "      <td>218</td>\n",
       "      <td>249</td>\n",
       "      <td>206</td>\n",
       "    </tr>\n",
       "    <tr>\n",
       "      <th>Hillshade_Noon</th>\n",
       "      <td>239</td>\n",
       "      <td>232</td>\n",
       "      <td>213</td>\n",
       "      <td>223</td>\n",
       "      <td>218</td>\n",
       "      <td>233</td>\n",
       "      <td>239</td>\n",
       "      <td>249</td>\n",
       "      <td>210</td>\n",
       "      <td>222</td>\n",
       "    </tr>\n",
       "    <tr>\n",
       "      <th>Hillshade_3pm</th>\n",
       "      <td>136</td>\n",
       "      <td>125</td>\n",
       "      <td>149</td>\n",
       "      <td>117</td>\n",
       "      <td>140</td>\n",
       "      <td>113</td>\n",
       "      <td>154</td>\n",
       "      <td>164</td>\n",
       "      <td>80</td>\n",
       "      <td>154</td>\n",
       "    </tr>\n",
       "    <tr>\n",
       "      <th>Horizontal_Distance_To_Fire_Points</th>\n",
       "      <td>1063</td>\n",
       "      <td>2736</td>\n",
       "      <td>408</td>\n",
       "      <td>2974</td>\n",
       "      <td>3004</td>\n",
       "      <td>972</td>\n",
       "      <td>1935</td>\n",
       "      <td>5126</td>\n",
       "      <td>778</td>\n",
       "      <td>832</td>\n",
       "    </tr>\n",
       "    <tr>\n",
       "      <th>Wilderness_Area</th>\n",
       "      <td>Rawah</td>\n",
       "      <td>Rawah</td>\n",
       "      <td>Rawah</td>\n",
       "      <td>Rawah</td>\n",
       "      <td>Commanche</td>\n",
       "      <td>Commanche</td>\n",
       "      <td>Commanche</td>\n",
       "      <td>Rawah</td>\n",
       "      <td>Rawah</td>\n",
       "      <td>Commanche</td>\n",
       "    </tr>\n",
       "    <tr>\n",
       "      <th>Soil_Type</th>\n",
       "      <td>7202</td>\n",
       "      <td>7745</td>\n",
       "      <td>7745</td>\n",
       "      <td>7745</td>\n",
       "      <td>7202</td>\n",
       "      <td>2705</td>\n",
       "      <td>7756</td>\n",
       "      <td>7745</td>\n",
       "      <td>7745</td>\n",
       "      <td>7756</td>\n",
       "    </tr>\n",
       "    <tr>\n",
       "      <th>Cover_Type</th>\n",
       "      <td>0</td>\n",
       "      <td>1</td>\n",
       "      <td>1</td>\n",
       "      <td>0</td>\n",
       "      <td>0</td>\n",
       "      <td>2</td>\n",
       "      <td>1</td>\n",
       "      <td>0</td>\n",
       "      <td>0</td>\n",
       "      <td>0</td>\n",
       "    </tr>\n",
       "  </tbody>\n",
       "</table>\n",
       "</div>"
      ],
      "text/plain": [
       "                                   142538 179198 417758 307904     308836  \\\n",
       "Elevation                            3225   2876   2563   3149       2827   \n",
       "Aspect                                148    119      2     91         22   \n",
       "Slope                                  10     10     14     11         10   \n",
       "Horizontal_Distance_To_Hydrology      150    361     95     30        150   \n",
       "Vertical_Distance_To_Hydrology         12     56     26      6         16   \n",
       "Horizontal_Distance_To_Roadways      5825   2259    690   4654       1398   \n",
       "Hillshade_9am                         234    237    200    237        214   \n",
       "Hillshade_Noon                        239    232    213    223        218   \n",
       "Hillshade_3pm                         136    125    149    117        140   \n",
       "Horizontal_Distance_To_Fire_Points   1063   2736    408   2974       3004   \n",
       "Wilderness_Area                     Rawah  Rawah  Rawah  Rawah  Commanche   \n",
       "Soil_Type                            7202   7745   7745   7745       7202   \n",
       "Cover_Type                              0      1      1      0          0   \n",
       "\n",
       "                                       315787     388750 125211 315673  \\\n",
       "Elevation                                2511       3184   3195   3029   \n",
       "Aspect                                    167        157    194    104   \n",
       "Slope                                      31          2     10     20   \n",
       "Horizontal_Distance_To_Hydrology          323        390    108     30   \n",
       "Vertical_Distance_To_Hydrology            127         52     20     -8   \n",
       "Horizontal_Distance_To_Roadways           335       1146   3049    655   \n",
       "Hillshade_9am                             228        221    218    249   \n",
       "Hillshade_Noon                            233        239    249    210   \n",
       "Hillshade_3pm                             113        154    164     80   \n",
       "Horizontal_Distance_To_Fire_Points        972       1935   5126    778   \n",
       "Wilderness_Area                     Commanche  Commanche  Rawah  Rawah   \n",
       "Soil_Type                                2705       7756   7745   7745   \n",
       "Cover_Type                                  2          1      0      0   \n",
       "\n",
       "                                       336480  \n",
       "Elevation                                3021  \n",
       "Aspect                                      0  \n",
       "Slope                                       9  \n",
       "Horizontal_Distance_To_Hydrology          228  \n",
       "Vertical_Distance_To_Hydrology             24  \n",
       "Horizontal_Distance_To_Roadways          2659  \n",
       "Hillshade_9am                             206  \n",
       "Hillshade_Noon                            222  \n",
       "Hillshade_3pm                             154  \n",
       "Horizontal_Distance_To_Fire_Points        832  \n",
       "Wilderness_Area                     Commanche  \n",
       "Soil_Type                                7756  \n",
       "Cover_Type                                  0  "
      ]
     },
     "execution_count": 6,
     "metadata": {},
     "output_type": "execute_result"
    }
   ],
   "source": [
    "import pandas as pd\n",
    "data = pd.read_csv(LOCAL_DATA_FILE)\n",
    "print(\"Total number of records: {}\".format(len(data.index)))\n",
    "data.sample(10).T"
   ]
  },
  {
   "cell_type": "markdown",
   "metadata": {
    "colab_type": "text",
    "id": "PNPxgqVCqE7J"
   },
   "source": [
    "## 2. Define Metadata"
   ]
  },
  {
   "cell_type": "code",
   "execution_count": 7,
   "metadata": {
    "colab": {},
    "colab_type": "code",
    "id": "rvRdZIuoETkU"
   },
   "outputs": [],
   "source": [
    "HEADER = ['Elevation', 'Aspect', 'Slope','Horizontal_Distance_To_Hydrology',\n",
    "          'Vertical_Distance_To_Hydrology', 'Horizontal_Distance_To_Roadways',\n",
    "          'Hillshade_9am', 'Hillshade_Noon', 'Hillshade_3pm',\n",
    "          'Horizontal_Distance_To_Fire_Points', 'Wilderness_Area', 'Soil_Type',\n",
    "          'Cover_Type']\n",
    "\n",
    "TARGET_FEATURE_NAME = 'Cover_Type'\n",
    "\n",
    "FEATURE_LABELS = ['0', '1', '2', '3', '4', '5', '6']\n",
    "\n",
    "NUMERIC_FEATURE_NAMES = ['Aspect', 'Elevation', 'Hillshade_3pm', \n",
    "                         'Hillshade_9am', 'Hillshade_Noon', \n",
    "                         'Horizontal_Distance_To_Fire_Points',\n",
    "                         'Horizontal_Distance_To_Hydrology',\n",
    "                         'Horizontal_Distance_To_Roadways','Slope',\n",
    "                         'Vertical_Distance_To_Hydrology']\n",
    "\n",
    "CATEGORICAL_FEATURE_NAMES = ['Soil_Type', 'Wilderness_Area']\n",
    "\n",
    "FEATURE_NAMES = CATEGORICAL_FEATURE_NAMES + NUMERIC_FEATURE_NAMES\n",
    "\n",
    "HEADER_DEFAULTS = [[0] if feature_name in NUMERIC_FEATURE_NAMES + [TARGET_FEATURE_NAME] else ['NA'] \n",
    "                   for feature_name in HEADER]\n",
    "\n",
    "NUM_CLASSES = len(FEATURE_LABELS)"
   ]
  },
  {
   "cell_type": "markdown",
   "metadata": {
    "colab_type": "text",
    "id": "K0tufr6ROKbC"
   },
   "source": [
    "#### create a container for the serving data"
   ]
  },
  {
   "cell_type": "code",
   "execution_count": 8,
   "metadata": {
    "colab": {},
    "colab_type": "code",
    "id": "wPb-CbwfOKjY"
   },
   "outputs": [],
   "source": [
    "serving_data = {\n",
    "    '2020-04-01': None,\n",
    "    '2020-04-02': None,\n",
    "    '2020-04-03': None,\n",
    "    '2020-04-04': None,\n",
    "    '2020-04-05': None,\n",
    "    '2020-04-06': None,\n",
    "}"
   ]
  },
  {
   "cell_type": "markdown",
   "metadata": {
    "colab_type": "text",
    "id": "gejOSnS_E_lo"
   },
   "source": [
    "## 3. Sampling Unskewed Data\n",
    "\n",
    "* Sample data for *three* consecutive dates: **01-04-20202**, **02-04-2020**, and **03-04-2020**\n",
    "* Each day has 1000 examples\n",
    "* No altering is applied\n",
    "\n"
   ]
  },
  {
   "cell_type": "code",
   "execution_count": 9,
   "metadata": {
    "colab": {},
    "colab_type": "code",
    "id": "kNMF9rkpE_tz"
   },
   "outputs": [],
   "source": [
    "data_normal = data.sample(3000)"
   ]
  },
  {
   "cell_type": "code",
   "execution_count": 10,
   "metadata": {
    "colab": {},
    "colab_type": "code",
    "id": "WYlqANUdGw0I"
   },
   "outputs": [
    {
     "data": {
      "text/plain": [
       "<matplotlib.axes._subplots.AxesSubplot at 0x7fdeeb85a610>"
      ]
     },
     "execution_count": 10,
     "metadata": {},
     "output_type": "execute_result"
    },
    {
     "data": {
      "image/png": "[encoded data removed]",
      "text/plain": [
       "<Figure size 1440x360 with 3 Axes>"
      ]
     },
     "metadata": {
      "needs_background": "light"
     },
     "output_type": "display_data"
    }
   ],
   "source": [
    "fig, axes = plt.subplots(nrows=1, ncols=3, figsize=(20, 5))\n",
    "data_normal['Aspect'].plot.hist(bins=15, ax=axes[0], title='Aspect')\n",
    "data_normal['Wilderness_Area'].value_counts(normalize=True).plot.bar(ax=axes[1], title='Wilderness Area')\n",
    "data_normal[TARGET_FEATURE_NAME].value_counts(normalize=True).plot.bar(ax=axes[2], title=TARGET_FEATURE_NAME)"
   ]
  },
  {
   "cell_type": "code",
   "execution_count": 11,
   "metadata": {
    "colab": {},
    "colab_type": "code",
    "id": "ateUWw4dI9X2"
   },
   "outputs": [],
   "source": [
    "normal_days_data_list =[\n",
    "                        data_normal[:1000],\n",
    "                        data_normal[1000:2000],\n",
    "                        data_normal[2000:]\n",
    "]\n"
   ]
  },
  {
   "cell_type": "code",
   "execution_count": 12,
   "metadata": {
    "colab": {},
    "colab_type": "code",
    "id": "z82nsYFRL08q"
   },
   "outputs": [
    {
     "data": {
      "image/png": "[encoded data removed]",
      "text/plain": [
       "<Figure size 1440x360 with 3 Axes>"
      ]
     },
     "metadata": {
      "needs_background": "light"
     },
     "output_type": "display_data"
    }
   ],
   "source": [
    "fig, axes = plt.subplots(nrows=1, ncols=3, figsize=(20, 5))\n",
    "for i, day_data in enumerate(normal_days_data_list):\n",
    "  data_normal['Aspect'].plot.hist(bins=15, ax=axes[i])"
   ]
  },
  {
   "cell_type": "code",
   "execution_count": 13,
   "metadata": {
    "colab": {},
    "colab_type": "code",
    "id": "rQDj-0UBL2_g"
   },
   "outputs": [
    {
     "data": {
      "image/png": "[encoded data removed]",
      "text/plain": [
       "<Figure size 1440x360 with 3 Axes>"
      ]
     },
     "metadata": {
      "needs_background": "light"
     },
     "output_type": "display_data"
    }
   ],
   "source": [
    "fig, axes = plt.subplots(nrows=1, ncols=3, figsize=(20, 5))\n",
    "for i, day_data in enumerate(normal_days_data_list):\n",
    "  data_normal['Wilderness_Area'].value_counts(normalize=True).plot.bar(ax=axes[i])"
   ]
  },
  {
   "cell_type": "code",
   "execution_count": 14,
   "metadata": {
    "colab": {},
    "colab_type": "code",
    "id": "1zxjU-THQtLP"
   },
   "outputs": [
    {
     "data": {
      "image/png": "[encoded data removed]",
      "text/plain": [
       "<Figure size 1440x360 with 3 Axes>"
      ]
     },
     "metadata": {
      "needs_background": "light"
     },
     "output_type": "display_data"
    }
   ],
   "source": [
    "fig, axes = plt.subplots(nrows=1, ncols=3, figsize=(20, 5))\n",
    "for i, day_data in enumerate(normal_days_data_list):\n",
    "  data_normal[TARGET_FEATURE_NAME].value_counts(normalize=True).plot.bar(ax=axes[i])"
   ]
  },
  {
   "cell_type": "code",
   "execution_count": 15,
   "metadata": {
    "colab": {},
    "colab_type": "code",
    "id": "TblBzO47QDrT"
   },
   "outputs": [],
   "source": [
    "serving_data['2020-04-01'] = normal_days_data_list[0]\n",
    "serving_data['2020-04-02'] = normal_days_data_list[1]\n",
    "serving_data['2020-04-03'] = normal_days_data_list[2]"
   ]
  },
  {
   "cell_type": "markdown",
   "metadata": {
    "colab_type": "text",
    "id": "Lrp50MOhFK2y"
   },
   "source": [
    "## 4. Preparing Skewed Data\n",
    "We are going to introduce the following skews to the data:\n",
    "1. **Numerical Features**\n",
    "  1. *Elevation - Feature Skew*: Convert the unit of measure from meters to kilometers in 2020-04-05\n",
    "  2. *Aspect - Distribution Skew*: gradual decrease of the value\n",
    "\n",
    "2. **Categorical Features**\n",
    "  1. *Wilderness_Area - Feature Skew*: Adding a new category \"Others\" in 2020-04-05\n",
    "  2. *Wilderness_Area - Distribution Skew*: Gradual increase of of the frequency of \"Cache\" and \"Neota\" values\n",
    "3. **Target Features**: check the change of the distribution of predictied class labels"
   ]
  },
  {
   "cell_type": "code",
   "execution_count": 16,
   "metadata": {
    "colab": {},
    "colab_type": "code",
    "id": "aabdFtM-FLCT"
   },
   "outputs": [],
   "source": [
    "data_to_skew = data.sample(3000)\n",
    "serving_data['2020-04-04'] = data_to_skew[:1000]\n",
    "serving_data['2020-04-05'] = data_to_skew[1000:2000]\n",
    "serving_data['2020-04-06'] = data_to_skew[2000:]"
   ]
  },
  {
   "cell_type": "markdown",
   "metadata": {
    "colab_type": "text",
    "id": "_nalaB83U75N"
   },
   "source": [
    "### 4.1 Skew numerical features"
   ]
  },
  {
   "cell_type": "markdown",
   "metadata": {
    "colab_type": "text",
    "id": "YdFqotRGWtXp"
   },
   "source": [
    "#### 4.1.1 Elevation Feature Skew"
   ]
  },
  {
   "cell_type": "code",
   "execution_count": 17,
   "metadata": {
    "colab": {},
    "colab_type": "code",
    "id": "ROUARI9MU3w4"
   },
   "outputs": [
    {
     "name": "stderr",
     "output_type": "stream",
     "text": [
      "/opt/conda/lib/python3.7/site-packages/ipykernel_launcher.py:1: SettingWithCopyWarning: \n",
      "A value is trying to be set on a copy of a slice from a DataFrame.\n",
      "Try using .loc[row_indexer,col_indexer] = value instead\n",
      "\n",
      "See the caveats in the documentation: http://pandas.pydata.org/pandas-docs/stable/user_guide/indexing.html#returning-a-view-versus-a-copy\n",
      "  \"\"\"Entry point for launching an IPython kernel.\n"
     ]
    }
   ],
   "source": [
    "serving_data['2020-04-05']['Elevation'] = serving_data['2020-04-05']['Elevation'] / 1000"
   ]
  },
  {
   "cell_type": "code",
   "execution_count": 18,
   "metadata": {
    "colab": {},
    "colab_type": "code",
    "id": "LdiF7ONLVuM_"
   },
   "outputs": [
    {
     "data": {
      "text/plain": [
       "<matplotlib.axes._subplots.AxesSubplot at 0x7fdef7590e10>"
      ]
     },
     "execution_count": 18,
     "metadata": {},
     "output_type": "execute_result"
    },
    {
     "data": {
      "image/png": "[encoded data removed]",
      "text/plain": [
       "<Figure size 1440x360 with 2 Axes>"
      ]
     },
     "metadata": {
      "needs_background": "light"
     },
     "output_type": "display_data"
    }
   ],
   "source": [
    "fig, axes = plt.subplots(nrows=1, ncols=2, figsize=(20, 5))\n",
    "serving_data['2020-04-01']['Elevation'].plot.hist(bins=15, ax=axes[0], title='Elevation Meters')\n",
    "serving_data['2020-04-05']['Elevation'].plot.hist(bins=15, ax=axes[1], title='Elevation Kilometers')"
   ]
  },
  {
   "cell_type": "markdown",
   "metadata": {
    "colab_type": "text",
    "id": "POXFPHdtWzSw"
   },
   "source": [
    "#### 4.1.2 Aspect Distribution Skew"
   ]
  },
  {
   "cell_type": "code",
   "execution_count": 19,
   "metadata": {
    "colab": {},
    "colab_type": "code",
    "id": "euB8qRnzWzaP"
   },
   "outputs": [
    {
     "name": "stderr",
     "output_type": "stream",
     "text": [
      "/opt/conda/lib/python3.7/site-packages/ipykernel_launcher.py:2: SettingWithCopyWarning: \n",
      "A value is trying to be set on a copy of a slice from a DataFrame.\n",
      "Try using .loc[row_indexer,col_indexer] = value instead\n",
      "\n",
      "See the caveats in the documentation: http://pandas.pydata.org/pandas-docs/stable/user_guide/indexing.html#returning-a-view-versus-a-copy\n",
      "  \n",
      "/opt/conda/lib/python3.7/site-packages/ipykernel_launcher.py:6: SettingWithCopyWarning: \n",
      "A value is trying to be set on a copy of a slice from a DataFrame.\n",
      "Try using .loc[row_indexer,col_indexer] = value instead\n",
      "\n",
      "See the caveats in the documentation: http://pandas.pydata.org/pandas-docs/stable/user_guide/indexing.html#returning-a-view-versus-a-copy\n",
      "  \n",
      "/opt/conda/lib/python3.7/site-packages/ipykernel_launcher.py:10: SettingWithCopyWarning: \n",
      "A value is trying to be set on a copy of a slice from a DataFrame.\n",
      "Try using .loc[row_indexer,col_indexer] = value instead\n",
      "\n",
      "See the caveats in the documentation: http://pandas.pydata.org/pandas-docs/stable/user_guide/indexing.html#returning-a-view-versus-a-copy\n",
      "  # Remove the CWD from sys.path while we load stuff.\n"
     ]
    }
   ],
   "source": [
    "serving_data['2020-04-04']['Aspect'] = serving_data['2020-04-04']['Aspect'].apply(\n",
    "    lambda value: value * np.random.uniform(0.90, 1) if value > 250 else value \n",
    ")\n",
    "\n",
    "serving_data['2020-04-05']['Aspect'] = serving_data['2020-04-05']['Aspect'].apply(\n",
    "    lambda value: value * np.random.uniform(0.85, 1) if value > 250 else value \n",
    ")\n",
    "\n",
    "serving_data['2020-04-06']['Aspect'] = serving_data['2020-04-06']['Aspect'].apply(\n",
    "    lambda value: value * np.random.uniform(0.80, 1) if value > 250 else value \n",
    ")"
   ]
  },
  {
   "cell_type": "code",
   "execution_count": 20,
   "metadata": {
    "colab": {},
    "colab_type": "code",
    "id": "1Qga7opvY5Ir"
   },
   "outputs": [
    {
     "name": "stderr",
     "output_type": "stream",
     "text": [
      "/opt/conda/lib/python3.7/site-packages/pandas/plotting/_matplotlib/tools.py:307: MatplotlibDeprecationWarning: \n",
      "The rowNum attribute was deprecated in Matplotlib 3.2 and will be removed two minor releases later. Use ax.get_subplotspec().rowspan.start instead.\n",
      "  layout[ax.rowNum, ax.colNum] = ax.get_visible()\n",
      "/opt/conda/lib/python3.7/site-packages/pandas/plotting/_matplotlib/tools.py:307: MatplotlibDeprecationWarning: \n",
      "The colNum attribute was deprecated in Matplotlib 3.2 and will be removed two minor releases later. Use ax.get_subplotspec().colspan.start instead.\n",
      "  layout[ax.rowNum, ax.colNum] = ax.get_visible()\n",
      "/opt/conda/lib/python3.7/site-packages/pandas/plotting/_matplotlib/tools.py:313: MatplotlibDeprecationWarning: \n",
      "The rowNum attribute was deprecated in Matplotlib 3.2 and will be removed two minor releases later. Use ax.get_subplotspec().rowspan.start instead.\n",
      "  if not layout[ax.rowNum + 1, ax.colNum]:\n",
      "/opt/conda/lib/python3.7/site-packages/pandas/plotting/_matplotlib/tools.py:313: MatplotlibDeprecationWarning: \n",
      "The colNum attribute was deprecated in Matplotlib 3.2 and will be removed two minor releases later. Use ax.get_subplotspec().colspan.start instead.\n",
      "  if not layout[ax.rowNum + 1, ax.colNum]:\n"
     ]
    },
    {
     "data": {
      "text/plain": [
       "<matplotlib.axes._subplots.AxesSubplot at 0x7fdeea9e1050>"
      ]
     },
     "execution_count": 20,
     "metadata": {},
     "output_type": "execute_result"
    },
    {
     "data": {
      "image/png": "[encoded data removed]",
      "text/plain": [
       "<Figure size 1440x720 with 6 Axes>"
      ]
     },
     "metadata": {
      "needs_background": "light"
     },
     "output_type": "display_data"
    }
   ],
   "source": [
    "fig, axes = plt.subplots(nrows=2, ncols=3, figsize=(20, 10))\n",
    "serving_data['2020-04-01']['Aspect'].plot.hist(bins=15, ax=axes[0, 0], title='Aspect - day 1')\n",
    "serving_data['2020-04-02']['Aspect'].plot.hist(bins=15, ax=axes[0, 1], title='Aspect - day 2')\n",
    "serving_data['2020-04-03']['Aspect'].plot.hist(bins=15, ax=axes[0, 2], title='Aspect - day 3')\n",
    "serving_data['2020-04-04']['Aspect'].plot.hist(bins=15, ax=axes[1, 0], title='Aspect - day 4')\n",
    "serving_data['2020-04-05']['Aspect'].plot.hist(bins=15, ax=axes[1, 1], title='Aspect - day 5')\n",
    "serving_data['2020-04-06']['Aspect'].plot.hist(bins=15, ax=axes[1, 2], title='Aspect - day 6')"
   ]
  },
  {
   "cell_type": "markdown",
   "metadata": {
    "colab_type": "text",
    "id": "RDwWYPTnfTZ1"
   },
   "source": [
    "### 4.2 Skew categorical features"
   ]
  },
  {
   "cell_type": "markdown",
   "metadata": {
    "colab_type": "text",
    "id": "MuGay843fcQY"
   },
   "source": [
    "#### 4.2.1 Wilderness Area Feature Skew\n",
    "Adding a new category \"Others\"\n"
   ]
  },
  {
   "cell_type": "code",
   "execution_count": 21,
   "metadata": {
    "colab": {},
    "colab_type": "code",
    "id": "sIXorDZff4yS"
   },
   "outputs": [
    {
     "name": "stderr",
     "output_type": "stream",
     "text": [
      "/opt/conda/lib/python3.7/site-packages/ipykernel_launcher.py:2: SettingWithCopyWarning: \n",
      "A value is trying to be set on a copy of a slice from a DataFrame.\n",
      "Try using .loc[row_indexer,col_indexer] = value instead\n",
      "\n",
      "See the caveats in the documentation: http://pandas.pydata.org/pandas-docs/stable/user_guide/indexing.html#returning-a-view-versus-a-copy\n",
      "  \n"
     ]
    }
   ],
   "source": [
    "serving_data['2020-04-05']['Wilderness_Area'] = serving_data['2020-04-05']['Wilderness_Area'].apply(\n",
    "    lambda value: 'Others' if np.random.uniform() <= 0.1 else value\n",
    ")"
   ]
  },
  {
   "cell_type": "code",
   "execution_count": 22,
   "metadata": {
    "colab": {},
    "colab_type": "code",
    "id": "A725svb-gRaR"
   },
   "outputs": [
    {
     "data": {
      "text/plain": [
       "<matplotlib.axes._subplots.AxesSubplot at 0x7fdeea7b8050>"
      ]
     },
     "execution_count": 22,
     "metadata": {},
     "output_type": "execute_result"
    },
    {
     "data": {
      "image/png": "[encoded data removed]",
      "text/plain": [
       "<Figure size 1440x360 with 3 Axes>"
      ]
     },
     "metadata": {
      "needs_background": "light"
     },
     "output_type": "display_data"
    }
   ],
   "source": [
    "fig, axes = plt.subplots(nrows=1, ncols=3, figsize=(20, 5))\n",
    "serving_data['2020-04-04']['Wilderness_Area'].value_counts(normalize=True).plot.bar(ax=axes[0], title='Wilderness Area - Normal')\n",
    "serving_data['2020-04-05']['Wilderness_Area'].value_counts(normalize=True).plot.bar(ax=axes[1], title='Wilderness Area - New Category')\n",
    "serving_data['2020-04-06']['Wilderness_Area'].value_counts(normalize=True).plot.bar(ax=axes[2], title='Wilderness Area - Normal')"
   ]
  },
  {
   "cell_type": "markdown",
   "metadata": {
    "colab_type": "text",
    "id": "zz8hhWluhSp9"
   },
   "source": [
    "#### 4.2.2 Wilderness Area Distribution Skew"
   ]
  },
  {
   "cell_type": "code",
   "execution_count": 23,
   "metadata": {
    "colab": {},
    "colab_type": "code",
    "id": "aISRDXvrhSzR"
   },
   "outputs": [
    {
     "name": "stderr",
     "output_type": "stream",
     "text": [
      "/opt/conda/lib/python3.7/site-packages/ipykernel_launcher.py:2: SettingWithCopyWarning: \n",
      "A value is trying to be set on a copy of a slice from a DataFrame.\n",
      "Try using .loc[row_indexer,col_indexer] = value instead\n",
      "\n",
      "See the caveats in the documentation: http://pandas.pydata.org/pandas-docs/stable/user_guide/indexing.html#returning-a-view-versus-a-copy\n",
      "  \n",
      "/opt/conda/lib/python3.7/site-packages/ipykernel_launcher.py:6: SettingWithCopyWarning: \n",
      "A value is trying to be set on a copy of a slice from a DataFrame.\n",
      "Try using .loc[row_indexer,col_indexer] = value instead\n",
      "\n",
      "See the caveats in the documentation: http://pandas.pydata.org/pandas-docs/stable/user_guide/indexing.html#returning-a-view-versus-a-copy\n",
      "  \n",
      "/opt/conda/lib/python3.7/site-packages/ipykernel_launcher.py:10: SettingWithCopyWarning: \n",
      "A value is trying to be set on a copy of a slice from a DataFrame.\n",
      "Try using .loc[row_indexer,col_indexer] = value instead\n",
      "\n",
      "See the caveats in the documentation: http://pandas.pydata.org/pandas-docs/stable/user_guide/indexing.html#returning-a-view-versus-a-copy\n",
      "  # Remove the CWD from sys.path while we load stuff.\n"
     ]
    }
   ],
   "source": [
    "serving_data['2020-04-04']['Wilderness_Area'] = serving_data['2020-04-04']['Wilderness_Area'].apply(\n",
    "    lambda value: 'Neota' if value in ['Rawah', 'Commanche'] and np.random.uniform() <= 0.1 else value\n",
    ")\n",
    "\n",
    "serving_data['2020-04-05']['Wilderness_Area'] = serving_data['2020-04-05']['Wilderness_Area'].apply(\n",
    "    lambda value: 'Neota' if value in ['Rawah', 'Commanche'] and np.random.uniform() <= 0.15 else value\n",
    ")\n",
    "\n",
    "serving_data['2020-04-06']['Wilderness_Area'] = serving_data['2020-04-06']['Wilderness_Area'].apply(\n",
    "    lambda value: 'Neota' if value in ['Rawah', 'Commanche'] and np.random.uniform() <= 0.2 else value\n",
    ")"
   ]
  },
  {
   "cell_type": "code",
   "execution_count": 24,
   "metadata": {
    "colab": {},
    "colab_type": "code",
    "id": "VjnFXyERi941"
   },
   "outputs": [
    {
     "data": {
      "text/plain": [
       "<matplotlib.axes._subplots.AxesSubplot at 0x7fdeea5a9650>"
      ]
     },
     "execution_count": 24,
     "metadata": {},
     "output_type": "execute_result"
    },
    {
     "data": {
      "image/png": "[encoded data removed]",
      "text/plain": [
       "<Figure size 1440x720 with 6 Axes>"
      ]
     },
     "metadata": {
      "needs_background": "light"
     },
     "output_type": "display_data"
    }
   ],
   "source": [
    "fig, axes = plt.subplots(nrows=2, ncols=3, figsize=(20, 10))\n",
    "serving_data['2020-04-01']['Wilderness_Area'].value_counts(normalize=True).plot.bar(ax=axes[0, 0], title='Wilderness Area - day 1')\n",
    "serving_data['2020-04-02']['Wilderness_Area'].value_counts(normalize=True).plot.bar(ax=axes[0, 1], title='Wilderness Area - day 2')\n",
    "serving_data['2020-04-03']['Wilderness_Area'].value_counts(normalize=True).plot.bar(ax=axes[0, 2], title='Wilderness Area - day 3')\n",
    "serving_data['2020-04-04']['Wilderness_Area'].value_counts(normalize=True).plot.bar(ax=axes[1, 0], title='Wilderness Area - day 4')\n",
    "serving_data['2020-04-05']['Wilderness_Area'].value_counts(normalize=True).plot.bar(ax=axes[1, 1], title='Wilderness Area - day 5')\n",
    "serving_data['2020-04-06']['Wilderness_Area'].value_counts(normalize=True).plot.bar(ax=axes[1, 2], title='Wilderness Area - day 6')\n"
   ]
  },
  {
   "cell_type": "markdown",
   "metadata": {
    "colab_type": "text",
    "id": "Y0kQHXkdFGZJ"
   },
   "source": [
    "## 5. Simulating serving workload"
   ]
  },
  {
   "cell_type": "markdown",
   "metadata": {
    "colab_type": "text",
    "id": "2TCilipgUKKf"
   },
   "source": [
    "### 5.1 Implement the model API client"
   ]
  },
  {
   "cell_type": "code",
   "execution_count": 25,
   "metadata": {
    "colab": {},
    "colab_type": "code",
    "id": "yEyoTL5wFlu9"
   },
   "outputs": [
    {
     "name": "stdout",
     "output_type": "stream",
     "text": [
      "Service name: projects/mlops-dev-env/models/covertype_classifier_tf/versions/v2\n"
     ]
    }
   ],
   "source": [
    "import googleapiclient.discovery\n",
    "import numpy as np\n",
    "\n",
    "service = googleapiclient.discovery.build('ml', 'v1')\n",
    "name = 'projects/{}/models/{}/versions/{}'.format(PROJECT, MODEL_NAME, VERSION_NAME)\n",
    "print(\"Service name: {}\".format(name))\n",
    "\n",
    "def caip_predict(instances):\n",
    "  \n",
    "  serving_instances = []\n",
    "  for instance in instances:\n",
    "    serving_instances.append(\n",
    "        {key: [value] for key, value in instance.items()})\n",
    "    \n",
    "  request_body={\n",
    "      'signature_name': SIGNATURE_NAME,\n",
    "      'instances': serving_instances}\n",
    "\n",
    "  response = service.projects().predict(\n",
    "      name=name,\n",
    "      body=request_body\n",
    "\n",
    "  ).execute()\n",
    "\n",
    "  if 'error' in response:\n",
    "    raise RuntimeError(response['error'])\n",
    "\n",
    "  probability_list = [output[MODEL_OUTPUT_KEY] for output in response['predictions']]\n",
    "  classes = [FEATURE_LABELS[int(np.argmax(probabilities))] for probabilities in probability_list]\n",
    "  return classes"
   ]
  },
  {
   "cell_type": "markdown",
   "metadata": {
    "colab_type": "text",
    "id": "quF2MGwjUWk9"
   },
   "source": [
    "### 5.2 Prepare the request instances"
   ]
  },
  {
   "cell_type": "code",
   "execution_count": 26,
   "metadata": {
    "colab": {},
    "colab_type": "code",
    "id": "gc9l_w-aQg6M"
   },
   "outputs": [],
   "source": [
    "def prepare_instances(serving_data):\n",
    "  instances = []\n",
    "\n",
    "  for request_timestamp, data in serving_data.items():\n",
    "    for _, row in data.iterrows():\n",
    "      instance = dict()\n",
    "      for column_name in data.columns:\n",
    "        if column_name == TARGET_FEATURE_NAME: continue\n",
    "        instance[column_name] = str(row[column_name]) if column_name in CATEGORICAL_FEATURE_NAMES else row[column_name]\n",
    " #     instance['request_timestamp'] = request_timestamp\n",
    "      instances.append(instance)\n",
    "\n",
    "  return instances\n"
   ]
  },
  {
   "cell_type": "code",
   "execution_count": 27,
   "metadata": {
    "colab": {},
    "colab_type": "code",
    "id": "4t0vQlldRkDM"
   },
   "outputs": [],
   "source": [
    "import time\n",
    "\n",
    "def simulate_requests():\n",
    "  instances = prepare_instances(serving_data)\n",
    "\n",
    "  print(\"Simulation started...\")\n",
    "  print(\"--------------------\")\n",
    "  print(\"Number of instances: {}\".format(len(instances)))\n",
    "\n",
    "  for i, instance in enumerate(instances):\n",
    "    predicted_class = caip_predict([instance])\n",
    "    print(\".\", end='')\n",
    "    \n",
    "    if (i + 1) % 100 == 0:\n",
    "      print()\n",
    "      print(\"Sent {} requests.\".format(i + 1))\n",
    "\n",
    "    #time.sleep(0.1)\n",
    "  print(\"\")\n",
    "  print(\"--------------------\")\n",
    "  print(\"Simulation finised.\")\n",
    "    "
   ]
  },
  {
   "cell_type": "code",
   "execution_count": 28,
   "metadata": {
    "colab": {},
    "colab_type": "code",
    "id": "8w_CtO5xTwjS"
   },
   "outputs": [
    {
     "name": "stdout",
     "output_type": "stream",
     "text": [
      "Simulation started...\n",
      "--------------------\n",
      "Number of instances: 6000\n",
      "....................................................................................................\n",
      "Sent 100 requests.\n",
      "....................................................................................................\n",
      "Sent 200 requests.\n",
      "....................................................................................................\n",
      "Sent 300 requests.\n",
      "....................................................................................................\n",
      "Sent 400 requests.\n",
      "....................................................................................................\n",
      "Sent 500 requests.\n",
      "....................................................................................................\n",
      "Sent 600 requests.\n",
      "....................................................................................................\n",
      "Sent 700 requests.\n",
      "....................................................................................................\n",
      "Sent 800 requests.\n",
      "....................................................................................................\n",
      "Sent 900 requests.\n",
      "....................................................................................................\n",
      "Sent 1000 requests.\n",
      "....................................................................................................\n",
      "Sent 1100 requests.\n",
      "....................................................................................................\n",
      "Sent 1200 requests.\n",
      "....................................................................................................\n",
      "Sent 1300 requests.\n",
      "....................................................................................................\n",
      "Sent 1400 requests.\n",
      "....................................................................................................\n",
      "Sent 1500 requests.\n",
      "....................................................................................................\n",
      "Sent 1600 requests.\n",
      "....................................................................................................\n",
      "Sent 1700 requests.\n",
      "....................................................................................................\n",
      "Sent 1800 requests.\n",
      "....................................................................................................\n",
      "Sent 1900 requests.\n",
      "....................................................................................................\n",
      "Sent 2000 requests.\n",
      "....................................................................................................\n",
      "Sent 2100 requests.\n",
      "....................................................................................................\n",
      "Sent 2200 requests.\n",
      "....................................................................................................\n",
      "Sent 2300 requests.\n",
      "....................................................................................................\n",
      "Sent 2400 requests.\n",
      "....................................................................................................\n",
      "Sent 2500 requests.\n",
      "....................................................................\n",
      "Sent 2600 requests.\n",
      "....................................................................................................\n",
      "Sent 2700 requests.\n",
      "....................................................................................................\n",
      "Sent 2800 requests.\n",
      "....................................................................................................\n",
      "Sent 2900 requests.\n",
      "....................................................................................................\n",
      "Sent 3000 requests.\n",
      "....................................................................................................\n",
      "Sent 3100 requests.\n",
      "....................................................................................................\n",
      "Sent 3200 requests.\n",
      "....................................................................................................\n",
      "Sent 3300 requests.\n",
      "....................................................................................................\n",
      "Sent 3400 requests.\n",
      "....................................................................................................\n",
      "Sent 3500 requests.\n",
      "....................................................................................................\n",
      "Sent 3600 requests.\n",
      "....................................................................................................\n",
      "Sent 3700 requests.\n",
      "....................................................................................................\n",
      "Sent 3800 requests.\n",
      "....................................................................................................\n",
      "Sent 3900 requests.\n",
      "....................................................................................................\n",
      "Sent 4000 requests.\n",
      "....................................................................................................\n",
      "Sent 4100 requests.\n",
      "....................................................................................................\n",
      "Sent 4200 requests.\n",
      "....................................................................................................\n",
      "Sent 4300 requests.\n",
      "....................................................................................................\n",
      "Sent 4400 requests.\n",
      "....................................................................................................\n",
      "Sent 4500 requests.\n",
      "....................................................................................................\n",
      "Sent 4600 requests.\n",
      "....................................................................................................\n",
      "Sent 4700 requests.\n",
      "....................................................................................................\n",
      "Sent 4800 requests.\n",
      "....................................................................................................\n",
      "Sent 4900 requests.\n",
      "....................................................................................................\n",
      "Sent 5000 requests.\n",
      "....................................................................................................\n",
      "Sent 5100 requests.\n",
      "....................................................................................................\n",
      "Sent 5200 requests.\n",
      "....................................................................................................\n",
      "Sent 5300 requests.\n",
      "....................................................................................................\n",
      "Sent 5400 requests.\n",
      "....................................................................................................\n",
      "Sent 5500 requests.\n",
      "....................................................................................................\n",
      "Sent 5600 requests.\n",
      "....................................................................................................\n",
      "Sent 5700 requests.\n",
      "....................................................................................................\n",
      "Sent 5800 requests.\n",
      "....................................................................................................\n",
      "Sent 5900 requests.\n",
      "....................................................................................................\n",
      "Sent 6000 requests.\n",
      "\n",
      "--------------------\n",
      "Simulation finised.\n"
     ]
    }
   ],
   "source": [
    "simulate_requests()"
   ]
  },
  {
   "cell_type": "code",
   "execution_count": null,
   "metadata": {
    "colab": {},
    "colab_type": "code",
    "id": "SaH2HYFskmu4"
   },
   "outputs": [],
   "source": []
  }
 ],
 "metadata": {
  "colab": {
   "name": "00-covertype-data-generation.ipynb",
   "provenance": [],
   "toc_visible": true
  },
  "environment": {
   "name": "tf2-gpu.2-1.m46",
   "type": "gcloud",
   "uri": "gcr.io/deeplearning-platform-release/tf2-gpu.2-1:m46"
  },
  "kernelspec": {
   "display_name": "Python 3",
   "language": "python",
   "name": "python3"
  },
  "language_info": {
   "codemirror_mode": {
    "name": "ipython",
    "version": 3
   },
   "file_extension": ".py",
   "mimetype": "text/x-python",
   "name": "python",
   "nbconvert_exporter": "python",
   "pygments_lexer": "ipython3",
   "version": "3.7.6"
  }
 },
 "nbformat": 4,
 "nbformat_minor": 4
}
