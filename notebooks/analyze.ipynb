{
 "cells": [
  {
   "cell_type": "markdown",
   "metadata": {},
   "source": [
    "##### Copyright 2020 Google Inc.\n",
    "\n",
    "Licensed under the Apache License, Version 2.0 (the \"License\").\n",
    "<!--\n",
    "    Licensed to the Apache Software Foundation (ASF) under one\n",
    "    or more contributor license agreements.  See the NOTICE file\n",
    "    distributed with this work for additional information\n",
    "    regarding copyright ownership.  The ASF licenses this file\n",
    "    to you under the Apache License, Version 2.0 (the\n",
    "    \"License\"); you may not use this file except in compliance\n",
    "    with the License.  You may obtain a copy of the License at\n",
    "\n",
    "      http://www.apache.org/licenses/LICENSE-2.0\n",
    "\n",
    "    Unless required by applicable law or agreed to in writing,\n",
    "    software distributed under the License is distributed on an\n",
    "    \"AS IS\" BASIS, WITHOUT WARRANTIES OR CONDITIONS OF ANY\n",
    "    KIND, either express or implied.  See the License for the\n",
    "    specific language governing permissions and limitations\n",
    "    under the License.\n",
    "-->\n"
   ]
  },
  {
   "cell_type": "markdown",
   "metadata": {},
   "source": [
    "# TFDV and Apache Beam sandbox"
   ]
  },
  {
   "cell_type": "code",
   "execution_count": null,
   "metadata": {},
   "outputs": [],
   "source": [
    "%pip install tfx"
   ]
  },
  {
   "cell_type": "code",
   "execution_count": 1,
   "metadata": {},
   "outputs": [],
   "source": [
    "import logging\n",
    "import re\n",
    "\n",
    "import pyarrow as pa\n",
    "\n",
    "from typing import List, Optional, Text, Union, Dict, Iterable\n",
    "\n",
    "import apache_beam as beam\n",
    "from apache_beam.runners.interactive.interactive_runner import InteractiveRunner\n",
    "import apache_beam.runners.interactive.interactive_beam as ib\n",
    "\n",
    "from apache_beam.options import pipeline_options\n",
    "from apache_beam.options.pipeline_options import GoogleCloudOptions\n",
    "from apache_beam.runners import DataflowRunner\n",
    "\n",
    "from apache_beam.options.pipeline_options import PipelineOptions\n",
    "from apache_beam.options.pipeline_options import SetupOptions\n",
    "\n",
    "from apache_beam.io.gcp.internal.clients import bigquery\n",
    "\n",
    "#from tensorflow_data_validation import types\n",
    "\n",
    "from jinja2 import Template\n",
    "\n",
    "import google.auth"
   ]
  },
  {
   "cell_type": "code",
   "execution_count": null,
   "metadata": {},
   "outputs": [],
   "source": [
    "def generate_sampling_query(source_table_name, num_lots, lots):\n",
    "  \"\"\"Prepares the data sampling query.\"\"\"\n",
    "\n",
    "  sampling_query_template = \"\"\"\n",
    "       SELECT *\n",
    "       FROM \n",
    "           `{{ source_table }}` AS cover\n",
    "       WHERE \n",
    "       MOD(ABS(FARM_FINGERPRINT(TO_JSON_STRING(cover))), {{ num_lots }}) IN ({{ lots }})\n",
    "       \"\"\"\n",
    "  query = Template(sampling_query_template).render(\n",
    "      source_table=source_table_name, num_lots=num_lots, lots=str(lots)[1:-1])\n",
    "\n",
    "  return query\n"
   ]
  },
  {
   "cell_type": "code",
   "execution_count": null,
   "metadata": {},
   "outputs": [],
   "source": [
    "source_table_name = 'mlops-dev-env.covertype_dataset.covertype'\n",
    "num_lots = 100\n",
    "lots = [1]\n",
    "\n",
    "query = generate_sampling_query(source_table_name, num_lots, lots)"
   ]
  },
  {
   "cell_type": "code",
   "execution_count": null,
   "metadata": {},
   "outputs": [],
   "source": [
    "from google.cloud import bigquery\n",
    "\n",
    "client = bigquery.Client()\n",
    "\n",
    "query_job = client.query('SELECT * FROM ({}) LIMIT 0'.format(query))\n",
    "results = query_job.result()"
   ]
  },
  {
   "cell_type": "code",
   "execution_count": null,
   "metadata": {},
   "outputs": [],
   "source": [
    "schema = {field.name: field.field_type for field in results.schema}\n",
    "schema"
   ]
  },
  {
   "cell_type": "code",
   "execution_count": null,
   "metadata": {},
   "outputs": [],
   "source": []
  },
  {
   "cell_type": "code",
   "execution_count": 3,
   "metadata": {},
   "outputs": [],
   "source": [
    "import tensorflow_data_validation as tfdv\n",
    "import os"
   ]
  },
  {
   "cell_type": "raw",
   "metadata": {},
   "source": [
    "schema_path = 'schema.pbtxt'\n",
    "schema = tfdv.load_schema_text(schema_path)"
   ]
  },
  {
   "cell_type": "code",
   "execution_count": 5,
   "metadata": {},
   "outputs": [],
   "source": [
    "#output_path = 'gs://hostedkfp-default-36un4wco1q/tfdv'\n",
    "output_path = '/home/jupyter/output'\n",
    " \n",
    "_STATS_FILENAME='stats.pb'\n",
    "_ANOMALIES_FILENAME='anomalies.pbtxt'\n",
    "\n",
    "stats_output_path = os.path.join(output_path, _STATS_FILENAME)\n",
    "anomalies_output_path = os.path.join(output_path, _ANOMALIES_FILENAME)\n",
    " "
   ]
  },
  {
   "cell_type": "code",
   "execution_count": 8,
   "metadata": {},
   "outputs": [],
   "source": [
    "stats = tfdv.load_statistics(stats_output_path)"
   ]
  },
  {
   "cell_type": "code",
   "execution_count": 9,
   "metadata": {},
   "outputs": [
    {
     "data": {
      "text/html": [
       "<iframe id='facets-iframe' width=\"100%\" height=\"500px\"></iframe>\n",
       "        <script>\n",
       "        facets_iframe = document.getElementById('facets-iframe');\n",
       "        facets_html = '<script src=\"https://cdnjs.cloudflare.com/ajax/libs/webcomponentsjs/1.3.3/webcomponents-lite.js\"><\\/script><link rel=\"import\" href=\"https://raw.githubusercontent.com/PAIR-code/facets/master/facets-dist/facets-jupyter.html\"><facets-overview proto-input=\"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\"></facets-overview>';\n",
       "        facets_iframe.srcdoc = facets_html;\n",
       "         facets_iframe.id = \"\";\n",
       "         setTimeout(() => {\n",
       "           facets_iframe.setAttribute('height', facets_iframe.contentWindow.document.body.offsetHeight + 'px')\n",
       "         }, 1500)\n",
       "         </script>"
      ],
      "text/plain": [
       "<IPython.core.display.HTML object>"
      ]
     },
     "metadata": {},
     "output_type": "display_data"
    }
   ],
   "source": [
    "tfdv.visualize_statistics(stats)"
   ]
  },
  {
   "cell_type": "code",
   "execution_count": 41,
   "metadata": {},
   "outputs": [],
   "source": [
    "anomalies = tfdv.load_anomalies_text(anomalies_output_path)"
   ]
  },
  {
   "cell_type": "code",
   "execution_count": 42,
   "metadata": {},
   "outputs": [
    {
     "data": {
      "text/html": [
       "<h4 style=\"color:green;\">No anomalies found.</h4>"
      ],
      "text/plain": [
       "<IPython.core.display.HTML object>"
      ]
     },
     "metadata": {},
     "output_type": "display_data"
    }
   ],
   "source": [
    "tfdv.display_anomalies(anomalies)"
   ]
  },
  {
   "cell_type": "code",
   "execution_count": 1,
   "metadata": {},
   "outputs": [],
   "source": [
    "import pyarrow as pa\n"
   ]
  },
  {
   "cell_type": "code",
   "execution_count": 22,
   "metadata": {},
   "outputs": [],
   "source": [
    "obj = [{'c1': [1], 'c2': [3.0]}, {'c1': [2], 'c2': [6.0]}]\n",
    "struct_array = pa.array(obj)"
   ]
  },
  {
   "cell_type": "code",
   "execution_count": 23,
   "metadata": {},
   "outputs": [],
   "source": [
    "field_names = [f.name for f in list(struct_array.type)]"
   ]
  },
  {
   "cell_type": "code",
   "execution_count": 24,
   "metadata": {},
   "outputs": [
    {
     "data": {
      "text/plain": [
       "['c1', 'c2']"
      ]
     },
     "execution_count": 24,
     "metadata": {},
     "output_type": "execute_result"
    }
   ],
   "source": [
    "field_names"
   ]
  },
  {
   "cell_type": "code",
   "execution_count": 25,
   "metadata": {},
   "outputs": [],
   "source": [
    "value_arrays = struct_array.flatten()"
   ]
  },
  {
   "cell_type": "code",
   "execution_count": 26,
   "metadata": {},
   "outputs": [
    {
     "data": {
      "text/plain": [
       "[<pyarrow.lib.ListArray object at 0x7f4ec26c6c90>\n",
       " [\n",
       "   [\n",
       "     1\n",
       "   ],\n",
       "   [\n",
       "     2\n",
       "   ]\n",
       " ],\n",
       " <pyarrow.lib.ListArray object at 0x7f4ec26c6830>\n",
       " [\n",
       "   [\n",
       "     3\n",
       "   ],\n",
       "   [\n",
       "     6\n",
       "   ]\n",
       " ]]"
      ]
     },
     "execution_count": 26,
     "metadata": {},
     "output_type": "execute_result"
    }
   ],
   "source": [
    "value_arrays"
   ]
  },
  {
   "cell_type": "code",
   "execution_count": 27,
   "metadata": {},
   "outputs": [],
   "source": [
    "ar1 = value_arrays[1]"
   ]
  },
  {
   "cell_type": "code",
   "execution_count": 28,
   "metadata": {},
   "outputs": [
    {
     "data": {
      "text/plain": [
       "ListType(list<item: double>)"
      ]
     },
     "execution_count": 28,
     "metadata": {},
     "output_type": "execute_result"
    }
   ],
   "source": [
    "ar1.type"
   ]
  },
  {
   "cell_type": "code",
   "execution_count": 31,
   "metadata": {},
   "outputs": [
    {
     "data": {
      "text/plain": [
       "<pyarrow.lib.ListArray object at 0x7f4ec26c64b0>\n",
       "[\n",
       "  [\n",
       "    1\n",
       "  ]\n",
       "]"
      ]
     },
     "execution_count": 31,
     "metadata": {},
     "output_type": "execute_result"
    }
   ],
   "source": [
    "obj = [[1]]\n",
    "pa.array(obj)"
   ]
  },
  {
   "cell_type": "code",
   "execution_count": null,
   "metadata": {},
   "outputs": [],
   "source": []
  }
 ],
 "metadata": {
  "environment": {
   "name": "tf2-gpu.2-1.m47",
   "type": "gcloud",
   "uri": "gcr.io/deeplearning-platform-release/tf2-gpu.2-1:m47"
  },
  "kernelspec": {
   "display_name": "Python 3",
   "language": "python",
   "name": "python3"
  },
  "language_info": {
   "codemirror_mode": {
    "name": "ipython",
    "version": 3
   },
   "file_extension": ".py",
   "mimetype": "text/x-python",
   "name": "python",
   "nbconvert_exporter": "python",
   "pygments_lexer": "ipython3",
   "version": "3.7.6"
  }
 },
 "nbformat": 4,
 "nbformat_minor": 4
}
