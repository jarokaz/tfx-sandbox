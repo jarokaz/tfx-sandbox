{
 "cells": [
  {
   "cell_type": "markdown",
   "metadata": {},
   "source": [
    "<font size=-1>Licensed under the Apache License, Version 2.0 (the \\\"License\\\");\n",
    "you may not use this file except in compliance with the License.\n",
    "You may obtain a copy of the License at [https://www.apache.org/licenses/LICENSE-2.0](https://www.apache.org/licenses/LICENSE-2.0)\n",
    "\n",
    "Unless required by applicable law or agreed to in writing, software distributed under the License is distributed on an \\\"AS IS\\\" BASIS, WITHOUT WARRANTIES OR CONDITIONS OF ANY KIND, either express or implied.  See the License for the specific language governing permissions and limitations under the License.</font>"
   ]
  },
  {
   "cell_type": "markdown",
   "metadata": {},
   "source": [
    "The sample was tested with TFX version: 0.21.4 and KFP version: 0.4.0. Make sure that these versions are installed in your environment."
   ]
  },
  {
   "cell_type": "code",
   "execution_count": 36,
   "metadata": {},
   "outputs": [
    {
     "name": "stdout",
     "output_type": "stream",
     "text": [
      "TFX version: 0.21.4\n",
      "KFP version: 0.4.0\n"
     ]
    }
   ],
   "source": [
    "!python -c \"import tfx; print('TFX version: {}'.format(tfx.__version__))\"\n",
    "!python -c \"import kfp; print('KFP version: {}'.format(kfp.__version__))\""
   ]
  },
  {
   "cell_type": "markdown",
   "metadata": {},
   "source": [
    "Add a path to skaffold."
   ]
  },
  {
   "cell_type": "code",
   "execution_count": 37,
   "metadata": {},
   "outputs": [
    {
     "name": "stdout",
     "output_type": "stream",
     "text": [
      "env: PATH=/home/jupyter/.local/bin:/home/jupyter/.local/bin:/opt/conda/bin:/opt/conda/condabin:/usr/local/bin:/usr/bin:/bin:/usr/local/games:/usr/games\n"
     ]
    }
   ],
   "source": [
    "PATH=%env PATH\n",
    "%env PATH=/home/jupyter/.local/bin:{PATH}"
   ]
  },
  {
   "cell_type": "markdown",
   "metadata": {},
   "source": [
    "## Building and deploying the pipeline\n",
    "\n",
    "You will use TFX CLI to compile and deploy the pipeline. As explained in the previous section, the environment specific settings can be provided through a set of environment variables and embedded into the pipeline package at compile time.\n",
    "\n",
    "### Configure settings\n"
   ]
  },
  {
   "cell_type": "code",
   "execution_count": 38,
   "metadata": {},
   "outputs": [],
   "source": [
    "PROJECT_ID = 'mlops-dev-env'\n",
    "GCP_REGION = 'us-central1'\n",
    "ENDPOINT = '309f723963874a47-dot-us-central2.pipelines.googleusercontent.com'\n",
    "ARTIFACT_STORE_URI = 'gs://mlops-dev-workspace'\n",
    "PIPELINE_NAME = 'custom_component'\n",
    "DATA_ROOT_URI = 'gs://mlops-dev-workspace/data/taxi'\n",
    "CUSTOM_TFX_IMAGE = 'gcr.io/{}/{}'.format(PROJECT_ID, PIPELINE_NAME)"
   ]
  },
  {
   "cell_type": "code",
   "execution_count": 39,
   "metadata": {},
   "outputs": [
    {
     "name": "stdout",
     "output_type": "stream",
     "text": [
      "pickup_community_area,fare,trip_start_month,trip_start_hour,trip_start_day,trip_start_timestamp,pickup_latitude,pickup_longitude,dropoff_latitude,dropoff_longitude,trip_miles,pickup_census_tract,dropoff_census_tract,payment_type,company,trip_seconds,dropoff_community_area,tips\n",
      "60,27.05,10,2,3,1380593700,41.836150155,-87.648787952,,,12.6,,,Cash,Taxi Affiliation Services,1380,,0.0\n",
      "10,5.85,10,1,2,1382319000,41.985015101,-87.804532006,,,0.0,,,Cash,Taxi Affiliation Services,180,,0.0\n",
      "14,16.65,5,7,5,1369897200,41.968069,-87.721559063,,,0.0,,,Cash,Dispatch Taxi Affiliation,1080,,0.0\n",
      "13,16.45,11,12,3,1446554700,41.983636307,-87.723583185,,,6.9,,,Cash,,780,,0.0\n"
     ]
    }
   ],
   "source": [
    "!gsutil cat {DATA_ROOT_URI}/data.csv"
   ]
  },
  {
   "cell_type": "markdown",
   "metadata": {},
   "source": [
    "### Compile the pipeline\n"
   ]
  },
  {
   "cell_type": "code",
   "execution_count": 40,
   "metadata": {},
   "outputs": [
    {
     "name": "stdout",
     "output_type": "stream",
     "text": [
      "env: PROJECT_ID=mlops-dev-env\n",
      "env: KUBEFLOW_TFX_IMAGE=gcr.io/mlops-dev-env/custom_component\n",
      "env: ARTIFACT_STORE_URI=gs://mlops-dev-workspace\n",
      "env: DATA_ROOT_URI=gs://mlops-dev-workspace/data/taxi\n",
      "env: GCP_REGION=us-central1\n",
      "env: PIPELINE_NAME=custom_component\n"
     ]
    }
   ],
   "source": [
    "%env PROJECT_ID={PROJECT_ID}\n",
    "%env KUBEFLOW_TFX_IMAGE={CUSTOM_TFX_IMAGE}\n",
    "%env ARTIFACT_STORE_URI={ARTIFACT_STORE_URI}\n",
    "%env DATA_ROOT_URI={DATA_ROOT_URI}\n",
    "%env GCP_REGION={GCP_REGION}\n",
    "%env PIPELINE_NAME={PIPELINE_NAME}"
   ]
  },
  {
   "cell_type": "code",
   "execution_count": 41,
   "metadata": {},
   "outputs": [
    {
     "name": "stdout",
     "output_type": "stream",
     "text": [
      "CLI\n",
      "Compiling pipeline\n",
      "/home/jupyter/.local/lib/python3.7/site-packages/tfx/orchestration/data_types.py:191: UserWarning: RuntimeParameter is only supported on KubeflowDagRunner currently.\n",
      "  warnings.warn('RuntimeParameter is only supported on KubeflowDagRunner '\n",
      "INFO:absl:Adding upstream dependencies for component CsvExampleGen\n",
      "INFO:absl:Adding upstream dependencies for component HelloComponent\n",
      "INFO:absl:   ->  Component: CsvExampleGen\n",
      "INFO:absl:Adding upstream dependencies for component StatisticsGen\n",
      "INFO:absl:   ->  Component: HelloComponent\n",
      "Pipeline compiled successfully.\n",
      "Pipeline package path: /home/jupyter/tfx-sandbox/hello_world/custom_component.tar.gz\n"
     ]
    }
   ],
   "source": [
    "!tfx pipeline compile --engine kubeflow --pipeline_path dataflow_runner.py"
   ]
  },
  {
   "cell_type": "markdown",
   "metadata": {},
   "source": [
    "### Deploy the pipeline package to AI Platform Pipelines\n",
    "\n",
    "After the pipeline code compiles without any errors you can use the `tfx pipeline create` command to perform the full build and deploy the pipeline. \n"
   ]
  },
  {
   "cell_type": "raw",
   "metadata": {},
   "source": [
    "!tfx pipeline create  \\\n",
    "--pipeline_path=dataflow_runner.py \\\n",
    "--endpoint={ENDPOINT} \\\n",
    "--build_target_image={CUSTOM_TFX_IMAGE}"
   ]
  },
  {
   "cell_type": "code",
   "execution_count": null,
   "metadata": {},
   "outputs": [
    {
     "name": "stdout",
     "output_type": "stream",
     "text": [
      "CLI\n",
      "Updating pipeline\n",
      "Detected Kubeflow.\n",
      "Use --engine flag if you intend to use a different orchestrator.\n",
      "Reading build spec from build.yaml\n",
      "Use skaffold to build the container image.\n",
      "/home/jupyter/.local/bin/skaffold\n",
      "New container image is built. Target image is available in the build spec file.\n"
     ]
    }
   ],
   "source": [
    "!tfx pipeline update  \\\n",
    "--pipeline_path=dataflow_runner.py \\\n",
    "--endpoint={ENDPOINT} "
   ]
  },
  {
   "cell_type": "markdown",
   "metadata": {},
   "source": [
    "If you need to redeploy the pipeline you can first delete the previous version using `tfx pipeline delete` or you can update the pipeline in-place using `tfx pipeline update`.\n",
    "\n",
    "To delete the pipeline:\n",
    "\n",
    "`tfx pipeline delete --pipeline_name {PIPELINE_NAME} --endpoint {ENDPOINT}`\n",
    "\n",
    "To update the pipeline:\n",
    "\n",
    "`tfx pipeline update --pipeline_path runner.py --endpoint {ENDPOINT}`"
   ]
  },
  {
   "cell_type": "markdown",
   "metadata": {},
   "source": [
    "### Create and monitor a pipeline run\n",
    "After the pipeline has been deployed, you can trigger and monitor pipeline runs using TFX CLI or KFP UI.\n",
    "\n",
    "To submit the pipeline run using TFX CLI:"
   ]
  },
  {
   "cell_type": "code",
   "execution_count": 34,
   "metadata": {},
   "outputs": [
    {
     "name": "stdout",
     "output_type": "stream",
     "text": [
      "CLI\n",
      "Creating a run for pipeline: custom_component\n",
      "Detected Kubeflow.\n",
      "Use --engine flag if you intend to use a different orchestrator.\n",
      "Run created for pipeline: custom_component\n",
      "+------------------+--------------------------------------+----------+---------------------------+-----------------------------------------------------------------------------------------------------------------------------+\n",
      "| pipeline_name    | run_id                               | status   | created_at                | link                                                                                                                        |\n",
      "+==================+======================================+==========+===========================+=============================================================================================================================+\n",
      "| custom_component | 83b7e3fa-cd64-4b0f-be90-34aa9bb92a53 |          | 2020-05-12T22:14:07+00:00 | http://309f723963874a47-dot-us-central2.pipelines.googleusercontent.com/#/runs/details/83b7e3fa-cd64-4b0f-be90-34aa9bb92a53 |\n",
      "+------------------+--------------------------------------+----------+---------------------------+-----------------------------------------------------------------------------------------------------------------------------+\n"
     ]
    }
   ],
   "source": [
    "!tfx run create --pipeline_name={PIPELINE_NAME} --endpoint={ENDPOINT}"
   ]
  },
  {
   "cell_type": "markdown",
   "metadata": {},
   "source": [
    "To list all active runs of the pipeline:"
   ]
  },
  {
   "cell_type": "code",
   "execution_count": 16,
   "metadata": {},
   "outputs": [
    {
     "name": "stdout",
     "output_type": "stream",
     "text": [
      "CLI\n",
      "Listing all runs of pipeline: custom_component\n",
      "Detected Kubeflow.\n",
      "Use --engine flag if you intend to use a different orchestrator.\n",
      "+------------------+--------------------------------------+-----------+---------------------------+-----------------------------------------------------------------------------------------------------------------------------+\n",
      "| pipeline_name    | run_id                               | status    | created_at                | link                                                                                                                        |\n",
      "+==================+======================================+===========+===========================+=============================================================================================================================+\n",
      "| custom_component | 7700e961-1501-4a23-8301-77d33713bc94 | Succeeded | 2020-05-12T17:40:46+00:00 | http://309f723963874a47-dot-us-central2.pipelines.googleusercontent.com/#/runs/details/7700e961-1501-4a23-8301-77d33713bc94 |\n",
      "+------------------+--------------------------------------+-----------+---------------------------+-----------------------------------------------------------------------------------------------------------------------------+\n",
      "| custom_component | 4d4347c0-01c1-4f09-9428-94758a1fe56a | Succeeded | 2020-05-12T17:46:07+00:00 | http://309f723963874a47-dot-us-central2.pipelines.googleusercontent.com/#/runs/details/4d4347c0-01c1-4f09-9428-94758a1fe56a |\n",
      "+------------------+--------------------------------------+-----------+---------------------------+-----------------------------------------------------------------------------------------------------------------------------+\n",
      "| custom_component | a98a5fdc-1099-4eb6-b5f5-77499ed741fc | Succeeded | 2020-05-12T19:55:26+00:00 | http://309f723963874a47-dot-us-central2.pipelines.googleusercontent.com/#/runs/details/a98a5fdc-1099-4eb6-b5f5-77499ed741fc |\n",
      "+------------------+--------------------------------------+-----------+---------------------------+-----------------------------------------------------------------------------------------------------------------------------+\n",
      "| custom_component | db322327-caf4-4b31-84ae-7dca53835d78 | Succeeded | 2020-05-12T20:07:13+00:00 | http://309f723963874a47-dot-us-central2.pipelines.googleusercontent.com/#/runs/details/db322327-caf4-4b31-84ae-7dca53835d78 |\n",
      "+------------------+--------------------------------------+-----------+---------------------------+-----------------------------------------------------------------------------------------------------------------------------+\n",
      "| custom_component | d663f9de-43eb-4949-aa71-5dfe317aa096 | Failed    | 2020-05-12T20:18:07+00:00 | http://309f723963874a47-dot-us-central2.pipelines.googleusercontent.com/#/runs/details/d663f9de-43eb-4949-aa71-5dfe317aa096 |\n",
      "+------------------+--------------------------------------+-----------+---------------------------+-----------------------------------------------------------------------------------------------------------------------------+\n",
      "| custom_component | c8a8db21-2995-4d4f-a952-ee2ecdf74966 | Failed    | 2020-05-12T20:25:10+00:00 | http://309f723963874a47-dot-us-central2.pipelines.googleusercontent.com/#/runs/details/c8a8db21-2995-4d4f-a952-ee2ecdf74966 |\n",
      "+------------------+--------------------------------------+-----------+---------------------------+-----------------------------------------------------------------------------------------------------------------------------+\n"
     ]
    }
   ],
   "source": [
    "!tfx run list --pipeline_name {PIPELINE_NAME} --endpoint {ENDPOINT}"
   ]
  },
  {
   "cell_type": "markdown",
   "metadata": {},
   "source": [
    "To retrieve the status of a given run:"
   ]
  },
  {
   "cell_type": "code",
   "execution_count": null,
   "metadata": {},
   "outputs": [],
   "source": [
    "RUN_ID='[YOUR RUN ID]'\n",
    "\n",
    "!tfx run status --pipeline_name {PIPELINE_NAME} --run_id {RUN_ID} --endpoint {ENDPOINT}"
   ]
  },
  {
   "cell_type": "code",
   "execution_count": null,
   "metadata": {},
   "outputs": [],
   "source": []
  }
 ],
 "metadata": {
  "environment": {
   "name": "common-cpu.m47",
   "type": "gcloud",
   "uri": "gcr.io/deeplearning-platform-release/base-cpu:m47"
  },
  "kernelspec": {
   "display_name": "Python 3",
   "language": "python",
   "name": "python3"
  },
  "language_info": {
   "codemirror_mode": {
    "name": "ipython",
    "version": 3
   },
   "file_extension": ".py",
   "mimetype": "text/x-python",
   "name": "python",
   "nbconvert_exporter": "python",
   "pygments_lexer": "ipython3",
   "version": "3.7.6"
  }
 },
 "nbformat": 4,
 "nbformat_minor": 4
}
