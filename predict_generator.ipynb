{
 "cells": [
  {
   "cell_type": "markdown",
   "metadata": {},
   "source": [
    "# Predict generator"
   ]
  },
  {
   "cell_type": "code",
   "execution_count": 10,
   "metadata": {},
   "outputs": [
    {
     "name": "stdout",
     "output_type": "stream",
     "text": [
      "/home/jupyter/tfx-sandbox/prediction_robot\n"
     ]
    }
   ],
   "source": [
    "%cd prediction_robot"
   ]
  },
  {
   "cell_type": "code",
   "execution_count": 26,
   "metadata": {},
   "outputs": [
    {
     "name": "stdout",
     "output_type": "stream",
     "text": [
      "NAME          STATUS  TRIGGER        REGION\n",
      "hello_pubsub  ACTIVE  Event Trigger  us-central1\n"
     ]
    }
   ],
   "source": [
    "!gcloud functions list"
   ]
  },
  {
   "cell_type": "code",
   "execution_count": 21,
   "metadata": {},
   "outputs": [
    {
     "name": "stdout",
     "output_type": "stream",
     "text": [
      "---\n",
      "name: projects/mlops-dev-env/topics/container-analysis-notes-v1\n",
      "---\n",
      "name: projects/mlops-dev-env/topics/container-analysis-notes-v1beta1\n",
      "---\n",
      "name: projects/mlops-dev-env/topics/container-analysis-occurrences-v1\n",
      "---\n",
      "name: projects/mlops-dev-env/topics/container-analysis-occurrences-v1beta1\n",
      "---\n",
      "name: projects/mlops-dev-env/topics/cloud-builds\n",
      "---\n",
      "name: projects/mlops-dev-env/topics/messages\n",
      "---\n",
      "name: projects/mlops-dev-env/topics/predict_trigger\n",
      "---\n",
      "name: projects/mlops-dev-env/topics/test_topic\n"
     ]
    }
   ],
   "source": [
    "!gcloud pubsub topics list"
   ]
  },
  {
   "cell_type": "code",
   "execution_count": 68,
   "metadata": {},
   "outputs": [],
   "source": [
    "FUNCTION = 'hello_pubsub'\n",
    "TOPIC = 'predict_trigger'"
   ]
  },
  {
   "cell_type": "code",
   "execution_count": 75,
   "metadata": {},
   "outputs": [
    {
     "name": "stdout",
     "output_type": "stream",
     "text": [
      "Deploying function (may take a while - up to 2 minutes)...done.                \n",
      "availableMemoryMb: 256\n",
      "entryPoint: hello_pubsub\n",
      "eventTrigger:\n",
      "  eventType: google.pubsub.topic.publish\n",
      "  failurePolicy: {}\n",
      "  resource: projects/mlops-dev-env/topics/predict_trigger\n",
      "  service: pubsub.googleapis.com\n",
      "ingressSettings: ALLOW_ALL\n",
      "labels:\n",
      "  deployment-tool: cli-gcloud\n",
      "name: projects/mlops-dev-env/locations/us-central1/functions/hello_pubsub\n",
      "runtime: python37\n",
      "serviceAccountEmail: mlops-dev-env@appspot.gserviceaccount.com\n",
      "sourceUploadUrl: https://storage.googleapis.com/gcf-upload-us-central1-0d02fd46-13e9-44a5-a6e4-ef89fef97c7a/8d5557e9-b3db-4fce-ad2d-955fd2ac9bf5.zip?GoogleAccessId=service-881178567352@gcf-admin-robot.iam.gserviceaccount.com&Expires=1588994717&Signature=mHODBQxGQ1ONw8Z91t%2Fel%2FPLzNkjkNkX25NnBNPUE9MVrdbDLysaAuBqaNnhMqI513%2BRlu2Owz9YzeisZ1ahYBsGiKJadN%2BgNsH49H3yMw1T3yi3jFFr4sFewgD1Yk3KgrDzH8rlUFYTlGwHnwVtG4eGQerc2PtpXaVjJEu8XVxo6caquHgkTyFOelfwXWj9n%2Fuj6m7i6odxhy97%2FS4fIoBfLTMnev5yJ6WSE238dVOjoLQqFZboaIqa6Op0eY9POs0GYE4ACeJeay6GBlyntXLoI3s9yPKW8fjmTgSuNWDxWZOiuX04f0neJYQWNyxoDxul56Y27ABOcoAdDxYKqQ%3D%3D\n",
      "status: ACTIVE\n",
      "timeout: 60s\n",
      "updateTime: '2020-05-09T02:56:06.647Z'\n",
      "versionId: '13'\n"
     ]
    }
   ],
   "source": [
    "!gcloud functions deploy {FUNCTION} --runtime python37 --trigger-topic {TOPIC}"
   ]
  },
  {
   "cell_type": "code",
   "execution_count": 76,
   "metadata": {},
   "outputs": [
    {
     "data": {
      "text/plain": [
       "{'table': 'covertype_dataset.covertype',\n",
       " 'num_examples': 10,\n",
       " 'predict_service': 'projects/mlops-dev-env/models/covertype_classifier_tf/versions/v2'}"
      ]
     },
     "execution_count": 76,
     "metadata": {},
     "output_type": "execute_result"
    }
   ],
   "source": [
    "import json\n",
    "\n",
    "params = {\n",
    "    'table': 'covertype_dataset.covertype',\n",
    "    'num_examples': 10,\n",
    "    'predict_service': 'projects/mlops-dev-env/models/covertype_classifier_tf/versions/v2'\n",
    "}\n",
    "\n",
    "MESSAGE = json.dumps(params)\n",
    "MESSAGE\n",
    "json.loads(MESSAGE)"
   ]
  },
  {
   "cell_type": "code",
   "execution_count": 77,
   "metadata": {},
   "outputs": [
    {
     "name": "stdout",
     "output_type": "stream",
     "text": [
      "messageIds:\n",
      "- '1176272870762696'\n"
     ]
    }
   ],
   "source": [
    "!gcloud pubsub topics publish {TOPIC} --message '{MESSAGE}'"
   ]
  },
  {
   "cell_type": "code",
   "execution_count": 80,
   "metadata": {},
   "outputs": [
    {
     "name": "stdout",
     "output_type": "stream",
     "text": [
      "LEVEL  NAME          EXECUTION_ID  TIME_UTC                 LOG\n",
      "I      hello_pubsub  tpjyhjmrrcll  2020-05-08 23:25:25.962\n",
      "I      hello_pubsub  tpjyhjmrrcll  2020-05-08 23:25:25.962  Hello hmmm!\n",
      "D      hello_pubsub  tpjyhjmrrcll  2020-05-08 23:25:25.964  Function execution took 42 ms, finished with status: 'ok'\n",
      "D      hello_pubsub  0naspjamorll  2020-05-09 01:41:59.467  Function execution started\n",
      "I      hello_pubsub  0naspjamorll  2020-05-09 01:41:59.476  This Function was triggered by messageId 1176170519988926 published at 2020-05-09T01:41:55.441Z\n",
      "I      hello_pubsub  0naspjamorll  2020-05-09 01:41:59.476\n",
      "I      hello_pubsub  0naspjamorll  2020-05-09 01:41:59.476  Hello jjjj!\n",
      "D      hello_pubsub  0naspjamorll  2020-05-09 01:41:59.478  Function execution took 12 ms, finished with status: 'ok'\n",
      "D      hello_pubsub  0nas1h26iu39  2020-05-09 01:44:11.113  Function execution started\n",
      "I      hello_pubsub  0nas1h26iu39  2020-05-09 01:44:11.121  This Function was triggered by messageId 1176178788814658 published at 2020-05-09T01:44:10.309Z\n",
      "I      hello_pubsub  0nas1h26iu39  2020-05-09 01:44:11.121\n",
      "I      hello_pubsub  0nas1h26iu39  2020-05-09 01:44:11.121  Hello jjjj!\n",
      "D      hello_pubsub  0nas1h26iu39  2020-05-09 01:44:11.124  Function execution took 12 ms, finished with status: 'ok'\n",
      "D      hello_pubsub  nv4psuan8g3t  2020-05-09 01:50:57.916  Function execution started\n",
      "I      hello_pubsub  nv4psuan8g3t  2020-05-09 01:50:57.929  This Function was triggered by messageId 1176185881191479 published at 2020-05-09T01:50:57.153Z\n",
      "I      hello_pubsub  nv4psuan8g3t  2020-05-09 01:50:57.929\n",
      "I      hello_pubsub  nv4psuan8g3t  2020-05-09 01:50:57.929  Hello jjjj!\n",
      "D      hello_pubsub  nv4psuan8g3t  2020-05-09 01:50:57.930  Function execution took 16 ms, finished with status: 'ok'\n",
      "D      hello_pubsub  vaydua8w9lp3  2020-05-09 01:59:18.972  Function execution started\n",
      "I      hello_pubsub  vaydua8w9lp3  2020-05-09 01:59:19.001  This Function was triggered by messageId 1176189154889887 published at 2020-05-09T01:59:18.077Z\n",
      "I      hello_pubsub  vaydua8w9lp3  2020-05-09 01:59:19.001\n",
      "I      hello_pubsub  vaydua8w9lp3  2020-05-09 01:59:19.001  aaa\n",
      "D      hello_pubsub  vaydua8w9lp3  2020-05-09 01:59:19.047  Function execution took 76 ms, finished with status: 'ok'\n",
      "D      hello_pubsub  vaydubqrmczo  2020-05-09 02:01:45.536  Function execution started\n",
      "I      hello_pubsub  vaydubqrmczo  2020-05-09 02:01:45.565  This Function was triggered by messageId 1176200104005924 published at 2020-05-09T02:01:44.851Z\n",
      "I      hello_pubsub  vaydubqrmczo  2020-05-09 02:01:45.565\n",
      "I      hello_pubsub  vaydubqrmczo  2020-05-09 02:01:45.565  {\"f1\": 10, \"f2\": \"aaa\"}\n",
      "D      hello_pubsub  vaydubqrmczo  2020-05-09 02:01:45.568  Function execution took 32 ms, finished with status: 'ok'\n",
      "D      hello_pubsub  04g9q7jaxaob  2020-05-09 02:07:45.537  Function execution started\n",
      "I      hello_pubsub  04g9q7jaxaob  2020-05-09 02:07:45.553  This Function was triggered by messageId 1176205541718034 published at 2020-05-09T02:07:44.878Z\n",
      "I      hello_pubsub  04g9q7jaxaob  2020-05-09 02:07:45.553\n",
      "I      hello_pubsub  04g9q7jaxaob  2020-05-09 02:07:45.554  {'f1': 10, 'f2': 'aaa'}\n",
      "D      hello_pubsub  04g9q7jaxaob  2020-05-09 02:07:45.562  Function execution took 27 ms, finished with status: 'ok'\n",
      "D      hello_pubsub  04g9v5fwncv7  2020-05-09 02:20:50.268  Function execution started\n",
      "I      hello_pubsub  04g9v5fwncv7  2020-05-09 02:20:50.277  This Function was triggered by messageId 1176216792093091 published at 2020-05-09T02:20:49.636Z\n",
      "I      hello_pubsub  04g9v5fwncv7  2020-05-09 02:20:50.277\n",
      "I      hello_pubsub  04g9v5fwncv7  2020-05-09 02:20:50.277  {'table': 'covertype_dataset.covertype', 'num_examples': 10, 'predict_service': 'projects/mlops-dev-env/models/covertype_classifier_tf/versions/v2'}\n",
      "D      hello_pubsub  04g9v5fwncv7  2020-05-09 02:20:50.280  Function execution took 12 ms, finished with status: 'ok'\n",
      "D      hello_pubsub  01g5b6tr0lda  2020-05-09 02:41:21.722  Function execution started\n",
      "D      hello_pubsub  01g5b6tr0lda  2020-05-09 02:41:21.736  Function execution took 16 ms, finished with status: 'crash'\n",
      "D      hello_pubsub  do8uru59x59i  2020-05-09 02:42:29.088  Function execution started\n",
      "D      hello_pubsub  do8uru59x59i  2020-05-09 02:42:30.224  Function execution took 1137 ms, finished with status: 'crash'\n",
      "D      hello_pubsub  qtsgqonugytq  2020-05-09 02:47:28.479  Function execution started\n",
      "D      hello_pubsub  qtsgqonugytq  2020-05-09 02:47:29.529  Function execution took 1052 ms, finished with status: 'crash'\n",
      "D      hello_pubsub  ca9govxeyaei  2020-05-09 02:53:35.535  Function execution started\n",
      "I      hello_pubsub  ca9govxeyaei  2020-05-09 02:53:35.549  {\"table\": \"covertype_dataset.covertype\", \"num_examples\": 10, \"predict_service\": \"projects/mlops-dev-env/models/covertype_classifier_tf/versions/v2\"}\n",
      "D      hello_pubsub  ca9govxeyaei  2020-05-09 02:53:35.551  Function execution took 18 ms, finished with status: 'ok'\n",
      "D      hello_pubsub  iwm1m3ijgy9h  2020-05-09 03:06:18.420  Function execution started\n",
      "I      hello_pubsub  iwm1m3ijgy9h  2020-05-09 03:06:18.516  {'table': 'covertype_dataset.covertype', 'num_examples': 10, 'predict_service': 'projects/mlops-dev-env/models/covertype_classifier_tf/versions/v2'}\n",
      "D      hello_pubsub  iwm1m3ijgy9h  2020-05-09 03:06:18.518  Function execution took 100 ms, finished with status: 'ok'\n"
     ]
    }
   ],
   "source": [
    "!gcloud functions logs read {FUNCTION} --limit 50"
   ]
  },
  {
   "cell_type": "code",
   "execution_count": null,
   "metadata": {},
   "outputs": [],
   "source": []
  }
 ],
 "metadata": {
  "environment": {
   "name": "tf2-gpu.2-1.m46",
   "type": "gcloud",
   "uri": "gcr.io/deeplearning-platform-release/tf2-gpu.2-1:m46"
  },
  "kernelspec": {
   "display_name": "Python 3",
   "language": "python",
   "name": "python3"
  },
  "language_info": {
   "codemirror_mode": {
    "name": "ipython",
    "version": 3
   },
   "file_extension": ".py",
   "mimetype": "text/x-python",
   "name": "python",
   "nbconvert_exporter": "python",
   "pygments_lexer": "ipython3",
   "version": "3.7.6"
  }
 },
 "nbformat": 4,
 "nbformat_minor": 4
}
